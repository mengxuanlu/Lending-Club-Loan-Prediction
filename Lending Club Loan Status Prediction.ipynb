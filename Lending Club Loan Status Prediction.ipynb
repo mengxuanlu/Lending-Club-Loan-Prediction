{
 "cells": [
  {
   "cell_type": "markdown",
   "metadata": {},
   "source": [
    "# Lending Club Loan Status Prediction\n"
   ]
  },
  {
   "cell_type": "markdown",
   "metadata": {},
   "source": [
    "The project is to develop the best classification model for the Loan Status of the LendingClub Approved Loans from 2012-2015 and to evaluate how well your best model classifies the Loan Status of the loan in 2015."
   ]
  },
  {
   "cell_type": "markdown",
   "metadata": {},
   "source": [
    "## Table of Contents:\n",
    "### 1. [Data Pre-processing](#step1)\n",
    "### 2. [Exploratory Data Analysis](#step2)\n",
    "### 3. [Feature Selection](#step3)\n",
    "### 4. [Modelling](#step4)\n",
    "        - Random Forest\n",
    "        - XGBoost\n",
    "        - Logistic Regression\n",
    "        - KNN\n",
    "### 4. [Predict loan status for 2015 using XGBoost](#step5)\n",
    "### 5. [Conlusion](#step6)"
   ]
  },
  {
   "cell_type": "code",
   "execution_count": 183,
   "metadata": {},
   "outputs": [],
   "source": [
    "# Import libraries\n",
    "\n",
    "import numpy as np\n",
    "import pandas as pd\n",
    "from pandas import Series,DataFrame\n",
    "\n",
    "import math\n",
    "\n",
    "import matplotlib.pyplot as plt\n",
    "import seaborn as sns\n",
    "sns.set_style('whitegrid')\n",
    "\n",
    "%matplotlib inline\n",
    "\n",
    "# Machine Learning Imports\n",
    "from sklearn.linear_model import LogisticRegression\n",
    "from sklearn.model_selection import train_test_split\n",
    "import xgboost as xgb\n",
    "from sklearn.neighbors import KNeighborsClassifier\n",
    "from sklearn.ensemble import RandomForestClassifier\n",
    "\n",
    "# For evaluating ML results\n",
    "from sklearn import metrics\n",
    "from sklearn.metrics import confusion_matrix\n",
    "from sklearn.impute import SimpleImputer\n",
    "from sklearn.preprocessing import LabelEncoder\n"
   ]
  },
  {
   "cell_type": "code",
   "execution_count": 222,
   "metadata": {},
   "outputs": [],
   "source": [
    "# import data\n",
    "df = pd.read_csv(\"lending_club_data_2012_2014.csv\", dtype = {19:\"string\", 49:\"string\", 129:\"string\",\n",
    "                                                               130:\"string\", 131:\"string\", 134:\"string\",\n",
    "                                                               135:\"string\",136:\"string\",139:\"string\"})\n"
   ]
  },
  {
   "cell_type": "code",
   "execution_count": 194,
   "metadata": {},
   "outputs": [
    {
     "name": "stdout",
     "output_type": "stream",
     "text": [
      "<class 'pandas.core.frame.DataFrame'>\n",
      "RangeIndex: 423810 entries, 0 to 423809\n",
      "Data columns (total 152 columns):\n",
      " #   Column                                      Dtype  \n",
      "---  ------                                      -----  \n",
      " 0   id                                          int64  \n",
      " 1   member_id                                   float64\n",
      " 2   loan_amnt                                   int64  \n",
      " 3   funded_amnt                                 int64  \n",
      " 4   funded_amnt_inv                             float64\n",
      " 5   term                                        object \n",
      " 6   int_rate                                    float64\n",
      " 7   installment                                 float64\n",
      " 8   grade                                       object \n",
      " 9   sub_grade                                   object \n",
      " 10  emp_title                                   object \n",
      " 11  emp_length                                  object \n",
      " 12  home_ownership                              object \n",
      " 13  annual_inc                                  float64\n",
      " 14  verification_status                         object \n",
      " 15  issue_d                                     object \n",
      " 16  loan_status                                 object \n",
      " 17  pymnt_plan                                  object \n",
      " 18  url                                         object \n",
      " 19  desc                                        string \n",
      " 20  purpose                                     object \n",
      " 21  title                                       object \n",
      " 22  zip_code                                    object \n",
      " 23  addr_state                                  object \n",
      " 24  dti                                         float64\n",
      " 25  delinq_2yrs                                 int64  \n",
      " 26  earliest_cr_line                            object \n",
      " 27  fico_range_low                              int64  \n",
      " 28  fico_range_high                             int64  \n",
      " 29  inq_last_6mths                              int64  \n",
      " 30  mths_since_last_delinq                      float64\n",
      " 31  mths_since_last_record                      float64\n",
      " 32  open_acc                                    int64  \n",
      " 33  pub_rec                                     int64  \n",
      " 34  revol_bal                                   int64  \n",
      " 35  revol_util                                  float64\n",
      " 36  total_acc                                   int64  \n",
      " 37  initial_list_status                         object \n",
      " 38  out_prncp                                   float64\n",
      " 39  out_prncp_inv                               float64\n",
      " 40  total_pymnt                                 float64\n",
      " 41  total_pymnt_inv                             float64\n",
      " 42  total_rec_prncp                             float64\n",
      " 43  total_rec_int                               float64\n",
      " 44  total_rec_late_fee                          float64\n",
      " 45  recoveries                                  float64\n",
      " 46  collection_recovery_fee                     float64\n",
      " 47  last_pymnt_d                                object \n",
      " 48  last_pymnt_amnt                             float64\n",
      " 49  next_pymnt_d                                string \n",
      " 50  last_credit_pull_d                          object \n",
      " 51  last_fico_range_high                        int64  \n",
      " 52  last_fico_range_low                         int64  \n",
      " 53  collections_12_mths_ex_med                  int64  \n",
      " 54  mths_since_last_major_derog                 float64\n",
      " 55  policy_code                                 int64  \n",
      " 56  application_type                            object \n",
      " 57  annual_inc_joint                            float64\n",
      " 58  dti_joint                                   float64\n",
      " 59  verification_status_joint                   float64\n",
      " 60  acc_now_delinq                              int64  \n",
      " 61  tot_coll_amt                                float64\n",
      " 62  tot_cur_bal                                 float64\n",
      " 63  open_acc_6m                                 float64\n",
      " 64  open_act_il                                 float64\n",
      " 65  open_il_12m                                 float64\n",
      " 66  open_il_24m                                 float64\n",
      " 67  mths_since_rcnt_il                          float64\n",
      " 68  total_bal_il                                float64\n",
      " 69  il_util                                     float64\n",
      " 70  open_rv_12m                                 float64\n",
      " 71  open_rv_24m                                 float64\n",
      " 72  max_bal_bc                                  float64\n",
      " 73  all_util                                    float64\n",
      " 74  total_rev_hi_lim                            float64\n",
      " 75  inq_fi                                      float64\n",
      " 76  total_cu_tl                                 float64\n",
      " 77  inq_last_12m                                float64\n",
      " 78  acc_open_past_24mths                        float64\n",
      " 79  avg_cur_bal                                 float64\n",
      " 80  bc_open_to_buy                              float64\n",
      " 81  bc_util                                     float64\n",
      " 82  chargeoff_within_12_mths                    int64  \n",
      " 83  delinq_amnt                                 int64  \n",
      " 84  mo_sin_old_il_acct                          float64\n",
      " 85  mo_sin_old_rev_tl_op                        float64\n",
      " 86  mo_sin_rcnt_rev_tl_op                       float64\n",
      " 87  mo_sin_rcnt_tl                              float64\n",
      " 88  mort_acc                                    float64\n",
      " 89  mths_since_recent_bc                        float64\n",
      " 90  mths_since_recent_bc_dlq                    float64\n",
      " 91  mths_since_recent_inq                       float64\n",
      " 92  mths_since_recent_revol_delinq              float64\n",
      " 93  num_accts_ever_120_pd                       float64\n",
      " 94  num_actv_bc_tl                              float64\n",
      " 95  num_actv_rev_tl                             float64\n",
      " 96  num_bc_sats                                 float64\n",
      " 97  num_bc_tl                                   float64\n",
      " 98  num_il_tl                                   float64\n",
      " 99  num_op_rev_tl                               float64\n",
      " 100 num_rev_accts                               float64\n",
      " 101 num_rev_tl_bal_gt_0                         float64\n",
      " 102 num_sats                                    float64\n",
      " 103 num_tl_120dpd_2m                            float64\n",
      " 104 num_tl_30dpd                                float64\n",
      " 105 num_tl_90g_dpd_24m                          float64\n",
      " 106 num_tl_op_past_12m                          float64\n",
      " 107 pct_tl_nvr_dlq                              float64\n",
      " 108 percent_bc_gt_75                            float64\n",
      " 109 pub_rec_bankruptcies                        int64  \n",
      " 110 tax_liens                                   int64  \n",
      " 111 tot_hi_cred_lim                             float64\n",
      " 112 total_bal_ex_mort                           float64\n",
      " 113 total_bc_limit                              float64\n",
      " 114 total_il_high_credit_limit                  float64\n",
      " 115 revol_bal_joint                             float64\n",
      " 116 sec_app_fico_range_low                      float64\n",
      " 117 sec_app_fico_range_high                     float64\n",
      " 118 sec_app_earliest_cr_line                    float64\n",
      " 119 sec_app_inq_last_6mths                      float64\n",
      " 120 sec_app_mort_acc                            float64\n",
      " 121 sec_app_open_acc                            float64\n",
      " 122 sec_app_revol_util                          float64\n",
      " 123 sec_app_open_act_il                         float64\n",
      " 124 sec_app_num_rev_accts                       float64\n",
      " 125 sec_app_chargeoff_within_12_mths            float64\n",
      " 126 sec_app_collections_12_mths_ex_med          float64\n",
      " 127 sec_app_mths_since_last_major_derog         float64\n",
      " 128 hardship_flag                               object \n",
      " 129 hardship_type                               string \n",
      " 130 hardship_reason                             string \n",
      " 131 hardship_status                             string \n",
      " 132 deferral_term                               float64\n",
      " 133 hardship_amount                             float64\n",
      " 134 hardship_start_date                         string \n",
      " 135 hardship_end_date                           string \n",
      " 136 payment_plan_start_date                     string \n",
      " 137 hardship_length                             float64\n",
      " 138 hardship_dpd                                float64\n",
      " 139 hardship_loan_status                        string \n",
      " 140 orig_projected_additional_accrued_interest  float64\n",
      " 141 hardship_payoff_balance_amount              float64\n",
      " 142 hardship_last_payment_amount                float64\n",
      " 143 disbursement_method                         object \n",
      " 144 debt_settlement_flag                        object \n",
      " 145 debt_settlement_flag_date                   object \n",
      " 146 settlement_status                           object \n",
      " 147 settlement_date                             object \n",
      " 148 settlement_amount                           float64\n",
      " 149 settlement_percentage                       float64\n",
      " 150 settlement_term                             float64\n",
      " 151 year                                        int64  \n",
      "dtypes: float64(96), int64(21), object(26), string(9)\n",
      "memory usage: 491.5+ MB\n"
     ]
    }
   ],
   "source": [
    "df.info(verbose=True)\n"
   ]
  },
  {
   "cell_type": "code",
   "execution_count": 23,
   "metadata": {},
   "outputs": [],
   "source": [
    "data2 = pd.read_csv(\"lending_club_data_2015.csv\", dtype = {19:\"string\", 59:\"string\"})"
   ]
  },
  {
   "cell_type": "code",
   "execution_count": 22,
   "metadata": {},
   "outputs": [
    {
     "name": "stdout",
     "output_type": "stream",
     "text": [
      "<class 'pandas.core.frame.DataFrame'>\n",
      "RangeIndex: 421095 entries, 0 to 421094\n",
      "Data columns (total 152 columns):\n",
      " #   Column                                      Dtype  \n",
      "---  ------                                      -----  \n",
      " 0   id                                          int64  \n",
      " 1   member_id                                   float64\n",
      " 2   loan_amnt                                   int64  \n",
      " 3   funded_amnt                                 int64  \n",
      " 4   funded_amnt_inv                             float64\n",
      " 5   term                                        object \n",
      " 6   int_rate                                    float64\n",
      " 7   installment                                 float64\n",
      " 8   grade                                       object \n",
      " 9   sub_grade                                   object \n",
      " 10  emp_title                                   object \n",
      " 11  emp_length                                  object \n",
      " 12  home_ownership                              object \n",
      " 13  annual_inc                                  float64\n",
      " 14  verification_status                         object \n",
      " 15  issue_d                                     object \n",
      " 16  loan_status                                 object \n",
      " 17  pymnt_plan                                  object \n",
      " 18  url                                         object \n",
      " 19  desc                                        object \n",
      " 20  purpose                                     object \n",
      " 21  title                                       object \n",
      " 22  zip_code                                    object \n",
      " 23  addr_state                                  object \n",
      " 24  dti                                         float64\n",
      " 25  delinq_2yrs                                 int64  \n",
      " 26  earliest_cr_line                            object \n",
      " 27  fico_range_low                              int64  \n",
      " 28  fico_range_high                             int64  \n",
      " 29  inq_last_6mths                              int64  \n",
      " 30  mths_since_last_delinq                      float64\n",
      " 31  mths_since_last_record                      float64\n",
      " 32  open_acc                                    int64  \n",
      " 33  pub_rec                                     int64  \n",
      " 34  revol_bal                                   float64\n",
      " 35  revol_util                                  float64\n",
      " 36  total_acc                                   int64  \n",
      " 37  initial_list_status                         object \n",
      " 38  out_prncp                                   float64\n",
      " 39  out_prncp_inv                               float64\n",
      " 40  total_pymnt                                 float64\n",
      " 41  total_pymnt_inv                             float64\n",
      " 42  total_rec_prncp                             float64\n",
      " 43  total_rec_int                               float64\n",
      " 44  total_rec_late_fee                          float64\n",
      " 45  recoveries                                  float64\n",
      " 46  collection_recovery_fee                     float64\n",
      " 47  last_pymnt_d                                object \n",
      " 48  last_pymnt_amnt                             float64\n",
      " 49  next_pymnt_d                                object \n",
      " 50  last_credit_pull_d                          object \n",
      " 51  last_fico_range_high                        int64  \n",
      " 52  last_fico_range_low                         int64  \n",
      " 53  collections_12_mths_ex_med                  int64  \n",
      " 54  mths_since_last_major_derog                 float64\n",
      " 55  policy_code                                 int64  \n",
      " 56  application_type                            object \n",
      " 57  annual_inc_joint                            float64\n",
      " 58  dti_joint                                   float64\n",
      " 59  verification_status_joint                   object \n",
      " 60  acc_now_delinq                              int64  \n",
      " 61  tot_coll_amt                                int64  \n",
      " 62  tot_cur_bal                                 float64\n",
      " 63  open_acc_6m                                 float64\n",
      " 64  open_act_il                                 float64\n",
      " 65  open_il_12m                                 float64\n",
      " 66  open_il_24m                                 float64\n",
      " 67  mths_since_rcnt_il                          float64\n",
      " 68  total_bal_il                                float64\n",
      " 69  il_util                                     float64\n",
      " 70  open_rv_12m                                 float64\n",
      " 71  open_rv_24m                                 float64\n",
      " 72  max_bal_bc                                  float64\n",
      " 73  all_util                                    float64\n",
      " 74  total_rev_hi_lim                            float64\n",
      " 75  inq_fi                                      float64\n",
      " 76  total_cu_tl                                 float64\n",
      " 77  inq_last_12m                                float64\n",
      " 78  acc_open_past_24mths                        int64  \n",
      " 79  avg_cur_bal                                 int64  \n",
      " 80  bc_open_to_buy                              float64\n",
      " 81  bc_util                                     float64\n",
      " 82  chargeoff_within_12_mths                    int64  \n",
      " 83  delinq_amnt                                 int64  \n",
      " 84  mo_sin_old_il_acct                          float64\n",
      " 85  mo_sin_old_rev_tl_op                        int64  \n",
      " 86  mo_sin_rcnt_rev_tl_op                       int64  \n",
      " 87  mo_sin_rcnt_tl                              int64  \n",
      " 88  mort_acc                                    int64  \n",
      " 89  mths_since_recent_bc                        float64\n",
      " 90  mths_since_recent_bc_dlq                    float64\n",
      " 91  mths_since_recent_inq                       float64\n",
      " 92  mths_since_recent_revol_delinq              float64\n",
      " 93  num_accts_ever_120_pd                       int64  \n",
      " 94  num_actv_bc_tl                              int64  \n",
      " 95  num_actv_rev_tl                             int64  \n",
      " 96  num_bc_sats                                 int64  \n",
      " 97  num_bc_tl                                   int64  \n",
      " 98  num_il_tl                                   int64  \n",
      " 99  num_op_rev_tl                               int64  \n",
      " 100 num_rev_accts                               float64\n",
      " 101 num_rev_tl_bal_gt_0                         int64  \n",
      " 102 num_sats                                    int64  \n",
      " 103 num_tl_120dpd_2m                            float64\n",
      " 104 num_tl_30dpd                                int64  \n",
      " 105 num_tl_90g_dpd_24m                          int64  \n",
      " 106 num_tl_op_past_12m                          int64  \n",
      " 107 pct_tl_nvr_dlq                              float64\n",
      " 108 percent_bc_gt_75                            float64\n",
      " 109 pub_rec_bankruptcies                        int64  \n",
      " 110 tax_liens                                   int64  \n",
      " 111 tot_hi_cred_lim                             float64\n",
      " 112 total_bal_ex_mort                           float64\n",
      " 113 total_bc_limit                              float64\n",
      " 114 total_il_high_credit_limit                  float64\n",
      " 115 revol_bal_joint                             float64\n",
      " 116 sec_app_fico_range_low                      float64\n",
      " 117 sec_app_fico_range_high                     float64\n",
      " 118 sec_app_earliest_cr_line                    float64\n",
      " 119 sec_app_inq_last_6mths                      float64\n",
      " 120 sec_app_mort_acc                            float64\n",
      " 121 sec_app_open_acc                            float64\n",
      " 122 sec_app_revol_util                          float64\n",
      " 123 sec_app_open_act_il                         float64\n",
      " 124 sec_app_num_rev_accts                       float64\n",
      " 125 sec_app_chargeoff_within_12_mths            float64\n",
      " 126 sec_app_collections_12_mths_ex_med          float64\n",
      " 127 sec_app_mths_since_last_major_derog         float64\n",
      " 128 hardship_flag                               object \n",
      " 129 hardship_type                               object \n",
      " 130 hardship_reason                             object \n",
      " 131 hardship_status                             object \n",
      " 132 deferral_term                               float64\n",
      " 133 hardship_amount                             float64\n",
      " 134 hardship_start_date                         object \n",
      " 135 hardship_end_date                           object \n",
      " 136 payment_plan_start_date                     object \n",
      " 137 hardship_length                             float64\n",
      " 138 hardship_dpd                                float64\n",
      " 139 hardship_loan_status                        object \n",
      " 140 orig_projected_additional_accrued_interest  float64\n",
      " 141 hardship_payoff_balance_amount              float64\n",
      " 142 hardship_last_payment_amount                float64\n",
      " 143 disbursement_method                         object \n",
      " 144 debt_settlement_flag                        object \n",
      " 145 debt_settlement_flag_date                   object \n",
      " 146 settlement_status                           object \n",
      " 147 settlement_date                             object \n",
      " 148 settlement_amount                           float64\n",
      " 149 settlement_percentage                       float64\n",
      " 150 settlement_term                             float64\n",
      " 151 year                                        int64  \n",
      "dtypes: float64(77), int64(39), object(36)\n",
      "memory usage: 488.3+ MB\n"
     ]
    }
   ],
   "source": [
    "data2.info(verbose=True)"
   ]
  },
  {
   "cell_type": "code",
   "execution_count": 195,
   "metadata": {},
   "outputs": [
    {
     "data": {
      "text/plain": [
       "(423810, 152)"
      ]
     },
     "execution_count": 195,
     "metadata": {},
     "output_type": "execute_result"
    }
   ],
   "source": [
    "df.shape"
   ]
  },
  {
   "cell_type": "code",
   "execution_count": 25,
   "metadata": {},
   "outputs": [
    {
     "data": {
      "text/plain": [
       "(421095, 152)"
      ]
     },
     "execution_count": 25,
     "metadata": {},
     "output_type": "execute_result"
    }
   ],
   "source": [
    "data2.shape"
   ]
  },
  {
   "cell_type": "code",
   "execution_count": 28,
   "metadata": {},
   "outputs": [
    {
     "data": {
      "text/html": [
       "<div>\n",
       "<style scoped>\n",
       "    .dataframe tbody tr th:only-of-type {\n",
       "        vertical-align: middle;\n",
       "    }\n",
       "\n",
       "    .dataframe tbody tr th {\n",
       "        vertical-align: top;\n",
       "    }\n",
       "\n",
       "    .dataframe thead th {\n",
       "        text-align: right;\n",
       "    }\n",
       "</style>\n",
       "<table border=\"1\" class=\"dataframe\">\n",
       "  <thead>\n",
       "    <tr style=\"text-align: right;\">\n",
       "      <th></th>\n",
       "      <th>id</th>\n",
       "      <th>member_id</th>\n",
       "      <th>loan_amnt</th>\n",
       "      <th>funded_amnt</th>\n",
       "      <th>funded_amnt_inv</th>\n",
       "      <th>term</th>\n",
       "      <th>int_rate</th>\n",
       "      <th>installment</th>\n",
       "      <th>grade</th>\n",
       "      <th>sub_grade</th>\n",
       "      <th>...</th>\n",
       "      <th>hardship_last_payment_amount</th>\n",
       "      <th>disbursement_method</th>\n",
       "      <th>debt_settlement_flag</th>\n",
       "      <th>debt_settlement_flag_date</th>\n",
       "      <th>settlement_status</th>\n",
       "      <th>settlement_date</th>\n",
       "      <th>settlement_amount</th>\n",
       "      <th>settlement_percentage</th>\n",
       "      <th>settlement_term</th>\n",
       "      <th>year</th>\n",
       "    </tr>\n",
       "  </thead>\n",
       "  <tbody>\n",
       "    <tr>\n",
       "      <th>0</th>\n",
       "      <td>36805548</td>\n",
       "      <td>NaN</td>\n",
       "      <td>10400</td>\n",
       "      <td>10400</td>\n",
       "      <td>10400.0</td>\n",
       "      <td>36 months</td>\n",
       "      <td>6.99</td>\n",
       "      <td>321.08</td>\n",
       "      <td>A</td>\n",
       "      <td>A3</td>\n",
       "      <td>...</td>\n",
       "      <td>NaN</td>\n",
       "      <td>Cash</td>\n",
       "      <td>N</td>\n",
       "      <td>NaN</td>\n",
       "      <td>NaN</td>\n",
       "      <td>NaN</td>\n",
       "      <td>NaN</td>\n",
       "      <td>NaN</td>\n",
       "      <td>NaN</td>\n",
       "      <td>2014</td>\n",
       "    </tr>\n",
       "    <tr>\n",
       "      <th>1</th>\n",
       "      <td>38098114</td>\n",
       "      <td>NaN</td>\n",
       "      <td>15000</td>\n",
       "      <td>15000</td>\n",
       "      <td>15000.0</td>\n",
       "      <td>60 months</td>\n",
       "      <td>12.39</td>\n",
       "      <td>336.64</td>\n",
       "      <td>C</td>\n",
       "      <td>C1</td>\n",
       "      <td>...</td>\n",
       "      <td>NaN</td>\n",
       "      <td>Cash</td>\n",
       "      <td>N</td>\n",
       "      <td>NaN</td>\n",
       "      <td>NaN</td>\n",
       "      <td>NaN</td>\n",
       "      <td>NaN</td>\n",
       "      <td>NaN</td>\n",
       "      <td>NaN</td>\n",
       "      <td>2014</td>\n",
       "    </tr>\n",
       "    <tr>\n",
       "      <th>2</th>\n",
       "      <td>37822187</td>\n",
       "      <td>NaN</td>\n",
       "      <td>9600</td>\n",
       "      <td>9600</td>\n",
       "      <td>9600.0</td>\n",
       "      <td>36 months</td>\n",
       "      <td>13.66</td>\n",
       "      <td>326.53</td>\n",
       "      <td>C</td>\n",
       "      <td>C3</td>\n",
       "      <td>...</td>\n",
       "      <td>NaN</td>\n",
       "      <td>Cash</td>\n",
       "      <td>N</td>\n",
       "      <td>NaN</td>\n",
       "      <td>NaN</td>\n",
       "      <td>NaN</td>\n",
       "      <td>NaN</td>\n",
       "      <td>NaN</td>\n",
       "      <td>NaN</td>\n",
       "      <td>2014</td>\n",
       "    </tr>\n",
       "    <tr>\n",
       "      <th>3</th>\n",
       "      <td>37662224</td>\n",
       "      <td>NaN</td>\n",
       "      <td>7650</td>\n",
       "      <td>7650</td>\n",
       "      <td>7650.0</td>\n",
       "      <td>36 months</td>\n",
       "      <td>13.66</td>\n",
       "      <td>260.20</td>\n",
       "      <td>C</td>\n",
       "      <td>C3</td>\n",
       "      <td>...</td>\n",
       "      <td>NaN</td>\n",
       "      <td>Cash</td>\n",
       "      <td>N</td>\n",
       "      <td>NaN</td>\n",
       "      <td>NaN</td>\n",
       "      <td>NaN</td>\n",
       "      <td>NaN</td>\n",
       "      <td>NaN</td>\n",
       "      <td>NaN</td>\n",
       "      <td>2014</td>\n",
       "    </tr>\n",
       "    <tr>\n",
       "      <th>4</th>\n",
       "      <td>37612354</td>\n",
       "      <td>NaN</td>\n",
       "      <td>12800</td>\n",
       "      <td>12800</td>\n",
       "      <td>12800.0</td>\n",
       "      <td>60 months</td>\n",
       "      <td>17.14</td>\n",
       "      <td>319.08</td>\n",
       "      <td>D</td>\n",
       "      <td>D4</td>\n",
       "      <td>...</td>\n",
       "      <td>NaN</td>\n",
       "      <td>Cash</td>\n",
       "      <td>N</td>\n",
       "      <td>NaN</td>\n",
       "      <td>NaN</td>\n",
       "      <td>NaN</td>\n",
       "      <td>NaN</td>\n",
       "      <td>NaN</td>\n",
       "      <td>NaN</td>\n",
       "      <td>2014</td>\n",
       "    </tr>\n",
       "  </tbody>\n",
       "</table>\n",
       "<p>5 rows × 152 columns</p>\n",
       "</div>"
      ],
      "text/plain": [
       "         id  member_id  loan_amnt  funded_amnt  funded_amnt_inv       term  \\\n",
       "0  36805548        NaN      10400        10400          10400.0  36 months   \n",
       "1  38098114        NaN      15000        15000          15000.0  60 months   \n",
       "2  37822187        NaN       9600         9600           9600.0  36 months   \n",
       "3  37662224        NaN       7650         7650           7650.0  36 months   \n",
       "4  37612354        NaN      12800        12800          12800.0  60 months   \n",
       "\n",
       "   int_rate  installment grade sub_grade  ... hardship_last_payment_amount  \\\n",
       "0      6.99       321.08     A        A3  ...                          NaN   \n",
       "1     12.39       336.64     C        C1  ...                          NaN   \n",
       "2     13.66       326.53     C        C3  ...                          NaN   \n",
       "3     13.66       260.20     C        C3  ...                          NaN   \n",
       "4     17.14       319.08     D        D4  ...                          NaN   \n",
       "\n",
       "  disbursement_method debt_settlement_flag  debt_settlement_flag_date  \\\n",
       "0                Cash                    N                        NaN   \n",
       "1                Cash                    N                        NaN   \n",
       "2                Cash                    N                        NaN   \n",
       "3                Cash                    N                        NaN   \n",
       "4                Cash                    N                        NaN   \n",
       "\n",
       "  settlement_status settlement_date settlement_amount settlement_percentage  \\\n",
       "0               NaN             NaN               NaN                   NaN   \n",
       "1               NaN             NaN               NaN                   NaN   \n",
       "2               NaN             NaN               NaN                   NaN   \n",
       "3               NaN             NaN               NaN                   NaN   \n",
       "4               NaN             NaN               NaN                   NaN   \n",
       "\n",
       "  settlement_term  year  \n",
       "0             NaN  2014  \n",
       "1             NaN  2014  \n",
       "2             NaN  2014  \n",
       "3             NaN  2014  \n",
       "4             NaN  2014  \n",
       "\n",
       "[5 rows x 152 columns]"
      ]
     },
     "execution_count": 28,
     "metadata": {},
     "output_type": "execute_result"
    }
   ],
   "source": [
    "df.head()"
   ]
  },
  {
   "cell_type": "markdown",
   "metadata": {},
   "source": [
    "### 1. Data Pre-processing <a class=\"anchor\" id=\"step1\"></a>\n"
   ]
  },
  {
   "cell_type": "markdown",
   "metadata": {},
   "source": [
    "#### Handling Missing Values\n",
    "\n",
    "From the general overview, I notice the number of variables in this dataset is big, and there are a large of missing values in some variables. So first, I will drop those columns with more than 30% missing values."
   ]
  },
  {
   "cell_type": "code",
   "execution_count": 39,
   "metadata": {},
   "outputs": [
    {
     "data": {
      "text/plain": [
       "sec_app_num_rev_accts                  100.0\n",
       "sec_app_earliest_cr_line               100.0\n",
       "sec_app_mths_since_last_major_derog    100.0\n",
       "sec_app_collections_12_mths_ex_med     100.0\n",
       "sec_app_chargeoff_within_12_mths       100.0\n",
       "                                       ...  \n",
       "out_prncp                                0.0\n",
       "initial_list_status                      0.0\n",
       "total_acc                                0.0\n",
       "revol_bal                                0.0\n",
       "id                                       0.0\n",
       "Length: 152, dtype: float64"
      ]
     },
     "execution_count": 39,
     "metadata": {},
     "output_type": "execute_result"
    }
   ],
   "source": [
    "# Sort average of missing value for the entire dataset in ascending order\n",
    "missing_data = df.isnull().mean().sort_values(ascending = False)*100\n",
    "missing_data"
   ]
  },
  {
   "cell_type": "code",
   "execution_count": 223,
   "metadata": {},
   "outputs": [],
   "source": [
    "columns_to_drop = sorted(list(missing_data[missing_data > 30].index))\n"
   ]
  },
  {
   "cell_type": "code",
   "execution_count": 224,
   "metadata": {},
   "outputs": [
    {
     "data": {
      "text/plain": [
       "58"
      ]
     },
     "execution_count": 224,
     "metadata": {},
     "output_type": "execute_result"
    }
   ],
   "source": [
    "len(columns_to_drop)"
   ]
  },
  {
   "cell_type": "code",
   "execution_count": 225,
   "metadata": {},
   "outputs": [],
   "source": [
    "df.drop(columns_to_drop, axis = 1, inplace = True)"
   ]
  },
  {
   "cell_type": "markdown",
   "metadata": {},
   "source": [
    "After removing large missing value columns, we reduce to 94 columns, next, I will check Data Dictionary and only keep the features that would have been available to investors to consider, and I think it is useful to predict the loan status. I am using my best available knowledge to determine which features needed to be kept. "
   ]
  },
  {
   "cell_type": "code",
   "execution_count": 226,
   "metadata": {},
   "outputs": [
    {
     "data": {
      "text/html": [
       "<div>\n",
       "<style scoped>\n",
       "    .dataframe tbody tr th:only-of-type {\n",
       "        vertical-align: middle;\n",
       "    }\n",
       "\n",
       "    .dataframe tbody tr th {\n",
       "        vertical-align: top;\n",
       "    }\n",
       "\n",
       "    .dataframe thead th {\n",
       "        text-align: right;\n",
       "    }\n",
       "</style>\n",
       "<table border=\"1\" class=\"dataframe\">\n",
       "  <thead>\n",
       "    <tr style=\"text-align: right;\">\n",
       "      <th></th>\n",
       "      <th>id</th>\n",
       "      <th>loan_amnt</th>\n",
       "      <th>funded_amnt</th>\n",
       "      <th>funded_amnt_inv</th>\n",
       "      <th>term</th>\n",
       "      <th>int_rate</th>\n",
       "      <th>installment</th>\n",
       "      <th>grade</th>\n",
       "      <th>sub_grade</th>\n",
       "      <th>emp_title</th>\n",
       "      <th>emp_length</th>\n",
       "      <th>home_ownership</th>\n",
       "      <th>annual_inc</th>\n",
       "      <th>verification_status</th>\n",
       "      <th>issue_d</th>\n",
       "      <th>loan_status</th>\n",
       "      <th>pymnt_plan</th>\n",
       "      <th>url</th>\n",
       "      <th>purpose</th>\n",
       "      <th>title</th>\n",
       "      <th>zip_code</th>\n",
       "      <th>addr_state</th>\n",
       "      <th>dti</th>\n",
       "      <th>delinq_2yrs</th>\n",
       "      <th>earliest_cr_line</th>\n",
       "      <th>fico_range_low</th>\n",
       "      <th>fico_range_high</th>\n",
       "      <th>inq_last_6mths</th>\n",
       "      <th>open_acc</th>\n",
       "      <th>pub_rec</th>\n",
       "      <th>revol_bal</th>\n",
       "      <th>revol_util</th>\n",
       "      <th>total_acc</th>\n",
       "      <th>initial_list_status</th>\n",
       "      <th>out_prncp</th>\n",
       "      <th>out_prncp_inv</th>\n",
       "      <th>total_pymnt</th>\n",
       "      <th>total_pymnt_inv</th>\n",
       "      <th>total_rec_prncp</th>\n",
       "      <th>total_rec_int</th>\n",
       "      <th>total_rec_late_fee</th>\n",
       "      <th>recoveries</th>\n",
       "      <th>collection_recovery_fee</th>\n",
       "      <th>last_pymnt_d</th>\n",
       "      <th>last_pymnt_amnt</th>\n",
       "      <th>last_credit_pull_d</th>\n",
       "      <th>last_fico_range_high</th>\n",
       "      <th>last_fico_range_low</th>\n",
       "      <th>collections_12_mths_ex_med</th>\n",
       "      <th>policy_code</th>\n",
       "      <th>application_type</th>\n",
       "      <th>acc_now_delinq</th>\n",
       "      <th>tot_coll_amt</th>\n",
       "      <th>tot_cur_bal</th>\n",
       "      <th>total_rev_hi_lim</th>\n",
       "      <th>acc_open_past_24mths</th>\n",
       "      <th>avg_cur_bal</th>\n",
       "      <th>bc_open_to_buy</th>\n",
       "      <th>bc_util</th>\n",
       "      <th>chargeoff_within_12_mths</th>\n",
       "      <th>delinq_amnt</th>\n",
       "      <th>mo_sin_old_il_acct</th>\n",
       "      <th>mo_sin_old_rev_tl_op</th>\n",
       "      <th>mo_sin_rcnt_rev_tl_op</th>\n",
       "      <th>mo_sin_rcnt_tl</th>\n",
       "      <th>mort_acc</th>\n",
       "      <th>mths_since_recent_bc</th>\n",
       "      <th>mths_since_recent_inq</th>\n",
       "      <th>num_accts_ever_120_pd</th>\n",
       "      <th>num_actv_bc_tl</th>\n",
       "      <th>num_actv_rev_tl</th>\n",
       "      <th>num_bc_sats</th>\n",
       "      <th>num_bc_tl</th>\n",
       "      <th>num_il_tl</th>\n",
       "      <th>num_op_rev_tl</th>\n",
       "      <th>num_rev_accts</th>\n",
       "      <th>num_rev_tl_bal_gt_0</th>\n",
       "      <th>num_sats</th>\n",
       "      <th>num_tl_120dpd_2m</th>\n",
       "      <th>num_tl_30dpd</th>\n",
       "      <th>num_tl_90g_dpd_24m</th>\n",
       "      <th>num_tl_op_past_12m</th>\n",
       "      <th>pct_tl_nvr_dlq</th>\n",
       "      <th>percent_bc_gt_75</th>\n",
       "      <th>pub_rec_bankruptcies</th>\n",
       "      <th>tax_liens</th>\n",
       "      <th>tot_hi_cred_lim</th>\n",
       "      <th>total_bal_ex_mort</th>\n",
       "      <th>total_bc_limit</th>\n",
       "      <th>total_il_high_credit_limit</th>\n",
       "      <th>hardship_flag</th>\n",
       "      <th>disbursement_method</th>\n",
       "      <th>debt_settlement_flag</th>\n",
       "      <th>year</th>\n",
       "    </tr>\n",
       "  </thead>\n",
       "  <tbody>\n",
       "    <tr>\n",
       "      <th>0</th>\n",
       "      <td>36805548</td>\n",
       "      <td>10400</td>\n",
       "      <td>10400</td>\n",
       "      <td>10400.0</td>\n",
       "      <td>36 months</td>\n",
       "      <td>6.99</td>\n",
       "      <td>321.08</td>\n",
       "      <td>A</td>\n",
       "      <td>A3</td>\n",
       "      <td>Truck Driver Delivery Personel</td>\n",
       "      <td>8 years</td>\n",
       "      <td>MORTGAGE</td>\n",
       "      <td>58000.0</td>\n",
       "      <td>Not Verified</td>\n",
       "      <td>Dec-2014</td>\n",
       "      <td>Charged Off</td>\n",
       "      <td>n</td>\n",
       "      <td>https://lendingclub.com/browse/loanDetail.acti...</td>\n",
       "      <td>credit_card</td>\n",
       "      <td>Credit card refinancing</td>\n",
       "      <td>937xx</td>\n",
       "      <td>CA</td>\n",
       "      <td>14.92</td>\n",
       "      <td>0</td>\n",
       "      <td>Sep-1989</td>\n",
       "      <td>710</td>\n",
       "      <td>714</td>\n",
       "      <td>2</td>\n",
       "      <td>17</td>\n",
       "      <td>0</td>\n",
       "      <td>6133</td>\n",
       "      <td>31.6</td>\n",
       "      <td>36</td>\n",
       "      <td>w</td>\n",
       "      <td>0.00</td>\n",
       "      <td>0.00</td>\n",
       "      <td>6611.69</td>\n",
       "      <td>6611.69</td>\n",
       "      <td>5217.75</td>\n",
       "      <td>872.67</td>\n",
       "      <td>0.0</td>\n",
       "      <td>521.27</td>\n",
       "      <td>93.8286</td>\n",
       "      <td>Aug-2016</td>\n",
       "      <td>321.08</td>\n",
       "      <td>Feb-2017</td>\n",
       "      <td>564</td>\n",
       "      <td>560</td>\n",
       "      <td>0</td>\n",
       "      <td>1</td>\n",
       "      <td>Individual</td>\n",
       "      <td>0</td>\n",
       "      <td>0.0</td>\n",
       "      <td>162110.0</td>\n",
       "      <td>19400.0</td>\n",
       "      <td>7.0</td>\n",
       "      <td>9536.0</td>\n",
       "      <td>7599.0</td>\n",
       "      <td>41.5</td>\n",
       "      <td>0</td>\n",
       "      <td>0</td>\n",
       "      <td>76.0</td>\n",
       "      <td>290.0</td>\n",
       "      <td>1.0</td>\n",
       "      <td>1.0</td>\n",
       "      <td>1.0</td>\n",
       "      <td>5.0</td>\n",
       "      <td>1.0</td>\n",
       "      <td>4.0</td>\n",
       "      <td>6.0</td>\n",
       "      <td>9.0</td>\n",
       "      <td>7.0</td>\n",
       "      <td>18.0</td>\n",
       "      <td>2.0</td>\n",
       "      <td>14.0</td>\n",
       "      <td>32.0</td>\n",
       "      <td>9.0</td>\n",
       "      <td>17.0</td>\n",
       "      <td>0.0</td>\n",
       "      <td>0.0</td>\n",
       "      <td>0.0</td>\n",
       "      <td>4.0</td>\n",
       "      <td>83.3</td>\n",
       "      <td>14.3</td>\n",
       "      <td>0</td>\n",
       "      <td>0</td>\n",
       "      <td>179407.0</td>\n",
       "      <td>15030.0</td>\n",
       "      <td>13000.0</td>\n",
       "      <td>11325.0</td>\n",
       "      <td>N</td>\n",
       "      <td>Cash</td>\n",
       "      <td>N</td>\n",
       "      <td>2014</td>\n",
       "    </tr>\n",
       "    <tr>\n",
       "      <th>1</th>\n",
       "      <td>38098114</td>\n",
       "      <td>15000</td>\n",
       "      <td>15000</td>\n",
       "      <td>15000.0</td>\n",
       "      <td>60 months</td>\n",
       "      <td>12.39</td>\n",
       "      <td>336.64</td>\n",
       "      <td>C</td>\n",
       "      <td>C1</td>\n",
       "      <td>MANAGEMENT</td>\n",
       "      <td>10+ years</td>\n",
       "      <td>RENT</td>\n",
       "      <td>78000.0</td>\n",
       "      <td>Source Verified</td>\n",
       "      <td>Dec-2014</td>\n",
       "      <td>Fully Paid</td>\n",
       "      <td>n</td>\n",
       "      <td>https://lendingclub.com/browse/loanDetail.acti...</td>\n",
       "      <td>debt_consolidation</td>\n",
       "      <td>Debt consolidation</td>\n",
       "      <td>235xx</td>\n",
       "      <td>VA</td>\n",
       "      <td>12.03</td>\n",
       "      <td>0</td>\n",
       "      <td>Aug-1994</td>\n",
       "      <td>750</td>\n",
       "      <td>754</td>\n",
       "      <td>0</td>\n",
       "      <td>6</td>\n",
       "      <td>0</td>\n",
       "      <td>138008</td>\n",
       "      <td>29.0</td>\n",
       "      <td>17</td>\n",
       "      <td>w</td>\n",
       "      <td>0.00</td>\n",
       "      <td>0.00</td>\n",
       "      <td>17392.37</td>\n",
       "      <td>17392.37</td>\n",
       "      <td>15000.00</td>\n",
       "      <td>2392.37</td>\n",
       "      <td>0.0</td>\n",
       "      <td>0.00</td>\n",
       "      <td>0.0000</td>\n",
       "      <td>Jun-2016</td>\n",
       "      <td>12017.81</td>\n",
       "      <td>Feb-2019</td>\n",
       "      <td>704</td>\n",
       "      <td>700</td>\n",
       "      <td>0</td>\n",
       "      <td>1</td>\n",
       "      <td>Individual</td>\n",
       "      <td>0</td>\n",
       "      <td>0.0</td>\n",
       "      <td>149140.0</td>\n",
       "      <td>184500.0</td>\n",
       "      <td>5.0</td>\n",
       "      <td>29828.0</td>\n",
       "      <td>9525.0</td>\n",
       "      <td>4.7</td>\n",
       "      <td>0</td>\n",
       "      <td>0</td>\n",
       "      <td>103.0</td>\n",
       "      <td>244.0</td>\n",
       "      <td>1.0</td>\n",
       "      <td>1.0</td>\n",
       "      <td>0.0</td>\n",
       "      <td>47.0</td>\n",
       "      <td>NaN</td>\n",
       "      <td>0.0</td>\n",
       "      <td>1.0</td>\n",
       "      <td>4.0</td>\n",
       "      <td>1.0</td>\n",
       "      <td>2.0</td>\n",
       "      <td>8.0</td>\n",
       "      <td>5.0</td>\n",
       "      <td>9.0</td>\n",
       "      <td>4.0</td>\n",
       "      <td>6.0</td>\n",
       "      <td>0.0</td>\n",
       "      <td>0.0</td>\n",
       "      <td>0.0</td>\n",
       "      <td>4.0</td>\n",
       "      <td>100.0</td>\n",
       "      <td>0.0</td>\n",
       "      <td>0</td>\n",
       "      <td>0</td>\n",
       "      <td>196500.0</td>\n",
       "      <td>149140.0</td>\n",
       "      <td>10000.0</td>\n",
       "      <td>12000.0</td>\n",
       "      <td>N</td>\n",
       "      <td>Cash</td>\n",
       "      <td>N</td>\n",
       "      <td>2014</td>\n",
       "    </tr>\n",
       "    <tr>\n",
       "      <th>2</th>\n",
       "      <td>37822187</td>\n",
       "      <td>9600</td>\n",
       "      <td>9600</td>\n",
       "      <td>9600.0</td>\n",
       "      <td>36 months</td>\n",
       "      <td>13.66</td>\n",
       "      <td>326.53</td>\n",
       "      <td>C</td>\n",
       "      <td>C3</td>\n",
       "      <td>Admin Specialist</td>\n",
       "      <td>10+ years</td>\n",
       "      <td>RENT</td>\n",
       "      <td>69000.0</td>\n",
       "      <td>Source Verified</td>\n",
       "      <td>Dec-2014</td>\n",
       "      <td>Fully Paid</td>\n",
       "      <td>n</td>\n",
       "      <td>https://lendingclub.com/browse/loanDetail.acti...</td>\n",
       "      <td>debt_consolidation</td>\n",
       "      <td>Debt consolidation</td>\n",
       "      <td>077xx</td>\n",
       "      <td>NJ</td>\n",
       "      <td>25.81</td>\n",
       "      <td>0</td>\n",
       "      <td>Nov-1992</td>\n",
       "      <td>680</td>\n",
       "      <td>684</td>\n",
       "      <td>0</td>\n",
       "      <td>12</td>\n",
       "      <td>0</td>\n",
       "      <td>16388</td>\n",
       "      <td>59.4</td>\n",
       "      <td>44</td>\n",
       "      <td>f</td>\n",
       "      <td>0.00</td>\n",
       "      <td>0.00</td>\n",
       "      <td>9973.43</td>\n",
       "      <td>9973.43</td>\n",
       "      <td>9600.00</td>\n",
       "      <td>373.43</td>\n",
       "      <td>0.0</td>\n",
       "      <td>0.00</td>\n",
       "      <td>0.0000</td>\n",
       "      <td>Apr-2015</td>\n",
       "      <td>9338.58</td>\n",
       "      <td>Jan-2019</td>\n",
       "      <td>679</td>\n",
       "      <td>675</td>\n",
       "      <td>0</td>\n",
       "      <td>1</td>\n",
       "      <td>Individual</td>\n",
       "      <td>0</td>\n",
       "      <td>0.0</td>\n",
       "      <td>38566.0</td>\n",
       "      <td>27600.0</td>\n",
       "      <td>8.0</td>\n",
       "      <td>3214.0</td>\n",
       "      <td>6494.0</td>\n",
       "      <td>69.2</td>\n",
       "      <td>0</td>\n",
       "      <td>0</td>\n",
       "      <td>183.0</td>\n",
       "      <td>265.0</td>\n",
       "      <td>23.0</td>\n",
       "      <td>3.0</td>\n",
       "      <td>0.0</td>\n",
       "      <td>24.0</td>\n",
       "      <td>17.0</td>\n",
       "      <td>0.0</td>\n",
       "      <td>4.0</td>\n",
       "      <td>7.0</td>\n",
       "      <td>5.0</td>\n",
       "      <td>16.0</td>\n",
       "      <td>17.0</td>\n",
       "      <td>8.0</td>\n",
       "      <td>26.0</td>\n",
       "      <td>7.0</td>\n",
       "      <td>12.0</td>\n",
       "      <td>0.0</td>\n",
       "      <td>0.0</td>\n",
       "      <td>0.0</td>\n",
       "      <td>3.0</td>\n",
       "      <td>100.0</td>\n",
       "      <td>60.0</td>\n",
       "      <td>0</td>\n",
       "      <td>0</td>\n",
       "      <td>52490.0</td>\n",
       "      <td>38566.0</td>\n",
       "      <td>21100.0</td>\n",
       "      <td>24890.0</td>\n",
       "      <td>N</td>\n",
       "      <td>Cash</td>\n",
       "      <td>N</td>\n",
       "      <td>2014</td>\n",
       "    </tr>\n",
       "    <tr>\n",
       "      <th>3</th>\n",
       "      <td>37662224</td>\n",
       "      <td>7650</td>\n",
       "      <td>7650</td>\n",
       "      <td>7650.0</td>\n",
       "      <td>36 months</td>\n",
       "      <td>13.66</td>\n",
       "      <td>260.20</td>\n",
       "      <td>C</td>\n",
       "      <td>C3</td>\n",
       "      <td>Technical Specialist</td>\n",
       "      <td>&lt; 1 year</td>\n",
       "      <td>RENT</td>\n",
       "      <td>50000.0</td>\n",
       "      <td>Source Verified</td>\n",
       "      <td>Dec-2014</td>\n",
       "      <td>Charged Off</td>\n",
       "      <td>n</td>\n",
       "      <td>https://lendingclub.com/browse/loanDetail.acti...</td>\n",
       "      <td>debt_consolidation</td>\n",
       "      <td>Debt consolidation</td>\n",
       "      <td>850xx</td>\n",
       "      <td>AZ</td>\n",
       "      <td>34.81</td>\n",
       "      <td>0</td>\n",
       "      <td>Aug-2002</td>\n",
       "      <td>685</td>\n",
       "      <td>689</td>\n",
       "      <td>1</td>\n",
       "      <td>11</td>\n",
       "      <td>0</td>\n",
       "      <td>16822</td>\n",
       "      <td>91.9</td>\n",
       "      <td>20</td>\n",
       "      <td>f</td>\n",
       "      <td>0.00</td>\n",
       "      <td>0.00</td>\n",
       "      <td>2281.98</td>\n",
       "      <td>2281.98</td>\n",
       "      <td>704.38</td>\n",
       "      <td>339.61</td>\n",
       "      <td>0.0</td>\n",
       "      <td>1237.99</td>\n",
       "      <td>222.8382</td>\n",
       "      <td>Aug-2015</td>\n",
       "      <td>17.70</td>\n",
       "      <td>Oct-2016</td>\n",
       "      <td>559</td>\n",
       "      <td>555</td>\n",
       "      <td>0</td>\n",
       "      <td>1</td>\n",
       "      <td>Individual</td>\n",
       "      <td>0</td>\n",
       "      <td>0.0</td>\n",
       "      <td>64426.0</td>\n",
       "      <td>18300.0</td>\n",
       "      <td>6.0</td>\n",
       "      <td>5857.0</td>\n",
       "      <td>332.0</td>\n",
       "      <td>93.2</td>\n",
       "      <td>0</td>\n",
       "      <td>0</td>\n",
       "      <td>137.0</td>\n",
       "      <td>148.0</td>\n",
       "      <td>8.0</td>\n",
       "      <td>8.0</td>\n",
       "      <td>0.0</td>\n",
       "      <td>17.0</td>\n",
       "      <td>3.0</td>\n",
       "      <td>0.0</td>\n",
       "      <td>1.0</td>\n",
       "      <td>4.0</td>\n",
       "      <td>1.0</td>\n",
       "      <td>4.0</td>\n",
       "      <td>12.0</td>\n",
       "      <td>4.0</td>\n",
       "      <td>8.0</td>\n",
       "      <td>4.0</td>\n",
       "      <td>11.0</td>\n",
       "      <td>0.0</td>\n",
       "      <td>0.0</td>\n",
       "      <td>0.0</td>\n",
       "      <td>2.0</td>\n",
       "      <td>100.0</td>\n",
       "      <td>100.0</td>\n",
       "      <td>0</td>\n",
       "      <td>0</td>\n",
       "      <td>82331.0</td>\n",
       "      <td>64426.0</td>\n",
       "      <td>4900.0</td>\n",
       "      <td>64031.0</td>\n",
       "      <td>N</td>\n",
       "      <td>Cash</td>\n",
       "      <td>N</td>\n",
       "      <td>2014</td>\n",
       "    </tr>\n",
       "    <tr>\n",
       "      <th>4</th>\n",
       "      <td>37612354</td>\n",
       "      <td>12800</td>\n",
       "      <td>12800</td>\n",
       "      <td>12800.0</td>\n",
       "      <td>60 months</td>\n",
       "      <td>17.14</td>\n",
       "      <td>319.08</td>\n",
       "      <td>D</td>\n",
       "      <td>D4</td>\n",
       "      <td>Senior Sales Professional</td>\n",
       "      <td>10+ years</td>\n",
       "      <td>MORTGAGE</td>\n",
       "      <td>125000.0</td>\n",
       "      <td>Verified</td>\n",
       "      <td>Dec-2014</td>\n",
       "      <td>Current</td>\n",
       "      <td>n</td>\n",
       "      <td>https://lendingclub.com/browse/loanDetail.acti...</td>\n",
       "      <td>car</td>\n",
       "      <td>Car financing</td>\n",
       "      <td>953xx</td>\n",
       "      <td>CA</td>\n",
       "      <td>8.31</td>\n",
       "      <td>1</td>\n",
       "      <td>Oct-2000</td>\n",
       "      <td>665</td>\n",
       "      <td>669</td>\n",
       "      <td>0</td>\n",
       "      <td>8</td>\n",
       "      <td>0</td>\n",
       "      <td>5753</td>\n",
       "      <td>100.9</td>\n",
       "      <td>13</td>\n",
       "      <td>w</td>\n",
       "      <td>2968.68</td>\n",
       "      <td>2968.68</td>\n",
       "      <td>15993.87</td>\n",
       "      <td>15993.87</td>\n",
       "      <td>9831.32</td>\n",
       "      <td>6162.55</td>\n",
       "      <td>0.0</td>\n",
       "      <td>0.00</td>\n",
       "      <td>0.0000</td>\n",
       "      <td>Mar-2019</td>\n",
       "      <td>319.08</td>\n",
       "      <td>Mar-2019</td>\n",
       "      <td>664</td>\n",
       "      <td>660</td>\n",
       "      <td>0</td>\n",
       "      <td>1</td>\n",
       "      <td>Individual</td>\n",
       "      <td>0</td>\n",
       "      <td>0.0</td>\n",
       "      <td>261815.0</td>\n",
       "      <td>5700.0</td>\n",
       "      <td>2.0</td>\n",
       "      <td>32727.0</td>\n",
       "      <td>0.0</td>\n",
       "      <td>103.2</td>\n",
       "      <td>0</td>\n",
       "      <td>0</td>\n",
       "      <td>16.0</td>\n",
       "      <td>170.0</td>\n",
       "      <td>21.0</td>\n",
       "      <td>16.0</td>\n",
       "      <td>5.0</td>\n",
       "      <td>21.0</td>\n",
       "      <td>1.0</td>\n",
       "      <td>1.0</td>\n",
       "      <td>3.0</td>\n",
       "      <td>5.0</td>\n",
       "      <td>3.0</td>\n",
       "      <td>5.0</td>\n",
       "      <td>1.0</td>\n",
       "      <td>5.0</td>\n",
       "      <td>7.0</td>\n",
       "      <td>5.0</td>\n",
       "      <td>8.0</td>\n",
       "      <td>0.0</td>\n",
       "      <td>0.0</td>\n",
       "      <td>0.0</td>\n",
       "      <td>0.0</td>\n",
       "      <td>76.9</td>\n",
       "      <td>100.0</td>\n",
       "      <td>0</td>\n",
       "      <td>0</td>\n",
       "      <td>368700.0</td>\n",
       "      <td>18007.0</td>\n",
       "      <td>4400.0</td>\n",
       "      <td>18000.0</td>\n",
       "      <td>N</td>\n",
       "      <td>Cash</td>\n",
       "      <td>N</td>\n",
       "      <td>2014</td>\n",
       "    </tr>\n",
       "  </tbody>\n",
       "</table>\n",
       "</div>"
      ],
      "text/plain": [
       "         id  loan_amnt  funded_amnt  funded_amnt_inv       term  int_rate  \\\n",
       "0  36805548      10400        10400          10400.0  36 months      6.99   \n",
       "1  38098114      15000        15000          15000.0  60 months     12.39   \n",
       "2  37822187       9600         9600           9600.0  36 months     13.66   \n",
       "3  37662224       7650         7650           7650.0  36 months     13.66   \n",
       "4  37612354      12800        12800          12800.0  60 months     17.14   \n",
       "\n",
       "   installment grade sub_grade                       emp_title emp_length  \\\n",
       "0       321.08     A        A3  Truck Driver Delivery Personel    8 years   \n",
       "1       336.64     C        C1                      MANAGEMENT  10+ years   \n",
       "2       326.53     C        C3                Admin Specialist  10+ years   \n",
       "3       260.20     C        C3            Technical Specialist   < 1 year   \n",
       "4       319.08     D        D4       Senior Sales Professional  10+ years   \n",
       "\n",
       "  home_ownership  annual_inc verification_status   issue_d  loan_status  \\\n",
       "0       MORTGAGE     58000.0        Not Verified  Dec-2014  Charged Off   \n",
       "1           RENT     78000.0     Source Verified  Dec-2014   Fully Paid   \n",
       "2           RENT     69000.0     Source Verified  Dec-2014   Fully Paid   \n",
       "3           RENT     50000.0     Source Verified  Dec-2014  Charged Off   \n",
       "4       MORTGAGE    125000.0            Verified  Dec-2014      Current   \n",
       "\n",
       "  pymnt_plan                                                url  \\\n",
       "0          n  https://lendingclub.com/browse/loanDetail.acti...   \n",
       "1          n  https://lendingclub.com/browse/loanDetail.acti...   \n",
       "2          n  https://lendingclub.com/browse/loanDetail.acti...   \n",
       "3          n  https://lendingclub.com/browse/loanDetail.acti...   \n",
       "4          n  https://lendingclub.com/browse/loanDetail.acti...   \n",
       "\n",
       "              purpose                    title zip_code addr_state    dti  \\\n",
       "0         credit_card  Credit card refinancing    937xx         CA  14.92   \n",
       "1  debt_consolidation       Debt consolidation    235xx         VA  12.03   \n",
       "2  debt_consolidation       Debt consolidation    077xx         NJ  25.81   \n",
       "3  debt_consolidation       Debt consolidation    850xx         AZ  34.81   \n",
       "4                 car            Car financing    953xx         CA   8.31   \n",
       "\n",
       "   delinq_2yrs earliest_cr_line  fico_range_low  fico_range_high  \\\n",
       "0            0         Sep-1989             710              714   \n",
       "1            0         Aug-1994             750              754   \n",
       "2            0         Nov-1992             680              684   \n",
       "3            0         Aug-2002             685              689   \n",
       "4            1         Oct-2000             665              669   \n",
       "\n",
       "   inq_last_6mths  open_acc  pub_rec  revol_bal  revol_util  total_acc  \\\n",
       "0               2        17        0       6133        31.6         36   \n",
       "1               0         6        0     138008        29.0         17   \n",
       "2               0        12        0      16388        59.4         44   \n",
       "3               1        11        0      16822        91.9         20   \n",
       "4               0         8        0       5753       100.9         13   \n",
       "\n",
       "  initial_list_status  out_prncp  out_prncp_inv  total_pymnt  total_pymnt_inv  \\\n",
       "0                   w       0.00           0.00      6611.69          6611.69   \n",
       "1                   w       0.00           0.00     17392.37         17392.37   \n",
       "2                   f       0.00           0.00      9973.43          9973.43   \n",
       "3                   f       0.00           0.00      2281.98          2281.98   \n",
       "4                   w    2968.68        2968.68     15993.87         15993.87   \n",
       "\n",
       "   total_rec_prncp  total_rec_int  total_rec_late_fee  recoveries  \\\n",
       "0          5217.75         872.67                 0.0      521.27   \n",
       "1         15000.00        2392.37                 0.0        0.00   \n",
       "2          9600.00         373.43                 0.0        0.00   \n",
       "3           704.38         339.61                 0.0     1237.99   \n",
       "4          9831.32        6162.55                 0.0        0.00   \n",
       "\n",
       "   collection_recovery_fee last_pymnt_d  last_pymnt_amnt last_credit_pull_d  \\\n",
       "0                  93.8286     Aug-2016           321.08           Feb-2017   \n",
       "1                   0.0000     Jun-2016         12017.81           Feb-2019   \n",
       "2                   0.0000     Apr-2015          9338.58           Jan-2019   \n",
       "3                 222.8382     Aug-2015            17.70           Oct-2016   \n",
       "4                   0.0000     Mar-2019           319.08           Mar-2019   \n",
       "\n",
       "   last_fico_range_high  last_fico_range_low  collections_12_mths_ex_med  \\\n",
       "0                   564                  560                           0   \n",
       "1                   704                  700                           0   \n",
       "2                   679                  675                           0   \n",
       "3                   559                  555                           0   \n",
       "4                   664                  660                           0   \n",
       "\n",
       "   policy_code application_type  acc_now_delinq  tot_coll_amt  tot_cur_bal  \\\n",
       "0            1       Individual               0           0.0     162110.0   \n",
       "1            1       Individual               0           0.0     149140.0   \n",
       "2            1       Individual               0           0.0      38566.0   \n",
       "3            1       Individual               0           0.0      64426.0   \n",
       "4            1       Individual               0           0.0     261815.0   \n",
       "\n",
       "   total_rev_hi_lim  acc_open_past_24mths  avg_cur_bal  bc_open_to_buy  \\\n",
       "0           19400.0                   7.0       9536.0          7599.0   \n",
       "1          184500.0                   5.0      29828.0          9525.0   \n",
       "2           27600.0                   8.0       3214.0          6494.0   \n",
       "3           18300.0                   6.0       5857.0           332.0   \n",
       "4            5700.0                   2.0      32727.0             0.0   \n",
       "\n",
       "   bc_util  chargeoff_within_12_mths  delinq_amnt  mo_sin_old_il_acct  \\\n",
       "0     41.5                         0            0                76.0   \n",
       "1      4.7                         0            0               103.0   \n",
       "2     69.2                         0            0               183.0   \n",
       "3     93.2                         0            0               137.0   \n",
       "4    103.2                         0            0                16.0   \n",
       "\n",
       "   mo_sin_old_rev_tl_op  mo_sin_rcnt_rev_tl_op  mo_sin_rcnt_tl  mort_acc  \\\n",
       "0                 290.0                    1.0             1.0       1.0   \n",
       "1                 244.0                    1.0             1.0       0.0   \n",
       "2                 265.0                   23.0             3.0       0.0   \n",
       "3                 148.0                    8.0             8.0       0.0   \n",
       "4                 170.0                   21.0            16.0       5.0   \n",
       "\n",
       "   mths_since_recent_bc  mths_since_recent_inq  num_accts_ever_120_pd  \\\n",
       "0                   5.0                    1.0                    4.0   \n",
       "1                  47.0                    NaN                    0.0   \n",
       "2                  24.0                   17.0                    0.0   \n",
       "3                  17.0                    3.0                    0.0   \n",
       "4                  21.0                    1.0                    1.0   \n",
       "\n",
       "   num_actv_bc_tl  num_actv_rev_tl  num_bc_sats  num_bc_tl  num_il_tl  \\\n",
       "0             6.0              9.0          7.0       18.0        2.0   \n",
       "1             1.0              4.0          1.0        2.0        8.0   \n",
       "2             4.0              7.0          5.0       16.0       17.0   \n",
       "3             1.0              4.0          1.0        4.0       12.0   \n",
       "4             3.0              5.0          3.0        5.0        1.0   \n",
       "\n",
       "   num_op_rev_tl  num_rev_accts  num_rev_tl_bal_gt_0  num_sats  \\\n",
       "0           14.0           32.0                  9.0      17.0   \n",
       "1            5.0            9.0                  4.0       6.0   \n",
       "2            8.0           26.0                  7.0      12.0   \n",
       "3            4.0            8.0                  4.0      11.0   \n",
       "4            5.0            7.0                  5.0       8.0   \n",
       "\n",
       "   num_tl_120dpd_2m  num_tl_30dpd  num_tl_90g_dpd_24m  num_tl_op_past_12m  \\\n",
       "0               0.0           0.0                 0.0                 4.0   \n",
       "1               0.0           0.0                 0.0                 4.0   \n",
       "2               0.0           0.0                 0.0                 3.0   \n",
       "3               0.0           0.0                 0.0                 2.0   \n",
       "4               0.0           0.0                 0.0                 0.0   \n",
       "\n",
       "   pct_tl_nvr_dlq  percent_bc_gt_75  pub_rec_bankruptcies  tax_liens  \\\n",
       "0            83.3              14.3                     0          0   \n",
       "1           100.0               0.0                     0          0   \n",
       "2           100.0              60.0                     0          0   \n",
       "3           100.0             100.0                     0          0   \n",
       "4            76.9             100.0                     0          0   \n",
       "\n",
       "   tot_hi_cred_lim  total_bal_ex_mort  total_bc_limit  \\\n",
       "0         179407.0            15030.0         13000.0   \n",
       "1         196500.0           149140.0         10000.0   \n",
       "2          52490.0            38566.0         21100.0   \n",
       "3          82331.0            64426.0          4900.0   \n",
       "4         368700.0            18007.0          4400.0   \n",
       "\n",
       "   total_il_high_credit_limit hardship_flag disbursement_method  \\\n",
       "0                     11325.0             N                Cash   \n",
       "1                     12000.0             N                Cash   \n",
       "2                     24890.0             N                Cash   \n",
       "3                     64031.0             N                Cash   \n",
       "4                     18000.0             N                Cash   \n",
       "\n",
       "  debt_settlement_flag  year  \n",
       "0                    N  2014  \n",
       "1                    N  2014  \n",
       "2                    N  2014  \n",
       "3                    N  2014  \n",
       "4                    N  2014  "
      ]
     },
     "execution_count": 226,
     "metadata": {},
     "output_type": "execute_result"
    }
   ],
   "source": [
    "pd.set_option('display.max_columns',None)\n",
    "df.head()"
   ]
  },
  {
   "cell_type": "markdown",
   "metadata": {},
   "source": [
    "#### Encode response variable\n",
    "There are more than two values in the *loan_status* column, in order to to fit our prediction model and easy for analysis, I will encode the *loan_status* to only two levels, 1 means \"Fully Paid\" and 0 means \"Not Fully Paid\""
   ]
  },
  {
   "cell_type": "code",
   "execution_count": 227,
   "metadata": {},
   "outputs": [
    {
     "data": {
      "text/plain": [
       "array(['Charged Off', 'Fully Paid', 'Current', 'In Grace Period',\n",
       "       'Late (31-120 days)', 'Late (16-30 days)', 'Default'], dtype=object)"
      ]
     },
     "execution_count": 227,
     "metadata": {},
     "output_type": "execute_result"
    }
   ],
   "source": [
    "# Check loan_status value\n",
    "df['loan_status'].unique()"
   ]
  },
  {
   "cell_type": "code",
   "execution_count": 228,
   "metadata": {},
   "outputs": [],
   "source": [
    "# Encode the loan status\n",
    "df['loan_encode'] = np.where(df['loan_status'] == 'Fully Paid', 1, 0)"
   ]
  },
  {
   "cell_type": "code",
   "execution_count": 229,
   "metadata": {},
   "outputs": [
    {
     "data": {
      "text/plain": [
       "1    0.803294\n",
       "0    0.196706\n",
       "Name: loan_encode, dtype: float64"
      ]
     },
     "execution_count": 229,
     "metadata": {},
     "output_type": "execute_result"
    }
   ],
   "source": [
    "df['loan_encode'].value_counts()/len(df)"
   ]
  },
  {
   "cell_type": "code",
   "execution_count": 230,
   "metadata": {},
   "outputs": [],
   "source": [
    "# Drop loan_status column and rename loan_encode to loan_status\n",
    "df.drop(['loan_status'], axis = 1, inplace = True)\n",
    "# Rename load_encode to loan_status \n",
    "df.rename(columns = {'loan_encode':'loan_status'}, inplace = True)"
   ]
  },
  {
   "cell_type": "markdown",
   "metadata": {},
   "source": [
    "### 2. Exploratory Data Analysis <a class=\"anchor\" id=\"step2\"></a>\n",
    "Since there are many features in the dataset, I choose some features that interest me for further analysis\\n\n",
    "#### 2.1 FICO Score vs. Loan Status"
   ]
  },
  {
   "cell_type": "code",
   "execution_count": 204,
   "metadata": {},
   "outputs": [
    {
     "data": {
      "image/png": "[encoded data removed]",
      "text/plain": [
       "<Figure size 432x288 with 1 Axes>"
      ]
     },
     "metadata": {
      "needs_background": "light"
     },
     "output_type": "display_data"
    }
   ],
   "source": [
    "df.groupby(\"loan_status\").last_fico_range_high.mean().plot.bar(colormap = 'Pastel2')\n",
    "plt.xticks(rotation = 0);"
   ]
  },
  {
   "cell_type": "markdown",
   "metadata": {},
   "source": [
    "It is obvious to see people who paid off their loan have higher FICO scores."
   ]
  },
  {
   "cell_type": "markdown",
   "metadata": {},
   "source": [
    "#### 2.2 Income vs. Loan Status"
   ]
  },
  {
   "cell_type": "code",
   "execution_count": 231,
   "metadata": {},
   "outputs": [
    {
     "data": {
      "text/plain": [
       "count    4.238100e+05\n",
       "mean     7.369043e+04\n",
       "std      5.394186e+04\n",
       "min      3.000000e+03\n",
       "25%      4.500000e+04\n",
       "50%      6.350000e+04\n",
       "75%      9.000000e+04\n",
       "max      7.500000e+06\n",
       "Name: annual_inc, dtype: float64"
      ]
     },
     "execution_count": 231,
     "metadata": {},
     "output_type": "execute_result"
    }
   ],
   "source": [
    "df['annual_inc'].describe()"
   ]
  },
  {
   "cell_type": "code",
   "execution_count": 232,
   "metadata": {},
   "outputs": [],
   "source": [
    "df['log_annual_inc'] = df['annual_inc'].apply(lambda x:np.log10(x+1))"
   ]
  },
  {
   "cell_type": "code",
   "execution_count": 233,
   "metadata": {},
   "outputs": [
    {
     "data": {
      "image/png": "[encoded data removed]",
      "text/plain": [
       "<Figure size 360x360 with 1 Axes>"
      ]
     },
     "metadata": {
      "needs_background": "light"
     },
     "output_type": "display_data"
    }
   ],
   "source": [
    "sns.catplot(data=df, kind = 'box', x = 'loan_status', y ='log_annual_inc' , palette = 'Set3')\n",
    "plt.title(\"Log Annual Income vs. Loan Status\");"
   ]
  },
  {
   "cell_type": "markdown",
   "metadata": {},
   "source": [
    "Interestingly, the distribution of annual income is almost same no matter the borrowers paid off the loan or not."
   ]
  },
  {
   "cell_type": "code",
   "execution_count": 234,
   "metadata": {},
   "outputs": [],
   "source": [
    "df.drop(columns =['log_annual_inc'], inplace = True)"
   ]
  },
  {
   "cell_type": "markdown",
   "metadata": {},
   "source": [
    "#### 2.3 Purpose vs Loan Status"
   ]
  },
  {
   "cell_type": "code",
   "execution_count": 110,
   "metadata": {},
   "outputs": [
    {
     "data": {
      "text/plain": [
       "array(['credit_card', 'debt_consolidation', 'car', 'home_improvement',\n",
       "       'house', 'other', 'medical', 'moving', 'major_purchase',\n",
       "       'vacation', 'small_business', 'renewable_energy', 'wedding',\n",
       "       'educational'], dtype=object)"
      ]
     },
     "execution_count": 110,
     "metadata": {},
     "output_type": "execute_result"
    }
   ],
   "source": [
    "df['purpose'].unique()"
   ]
  },
  {
   "cell_type": "code",
   "execution_count": 208,
   "metadata": {},
   "outputs": [
    {
     "data": {
      "text/html": [
       "<div>\n",
       "<style scoped>\n",
       "    .dataframe tbody tr th:only-of-type {\n",
       "        vertical-align: middle;\n",
       "    }\n",
       "\n",
       "    .dataframe tbody tr th {\n",
       "        vertical-align: top;\n",
       "    }\n",
       "\n",
       "    .dataframe thead th {\n",
       "        text-align: right;\n",
       "    }\n",
       "</style>\n",
       "<table border=\"1\" class=\"dataframe\">\n",
       "  <thead>\n",
       "    <tr style=\"text-align: right;\">\n",
       "      <th>loan_status</th>\n",
       "      <th>0</th>\n",
       "      <th>1</th>\n",
       "    </tr>\n",
       "    <tr>\n",
       "      <th>purpose</th>\n",
       "      <th></th>\n",
       "      <th></th>\n",
       "    </tr>\n",
       "  </thead>\n",
       "  <tbody>\n",
       "    <tr>\n",
       "      <th>car</th>\n",
       "      <td>528</td>\n",
       "      <td>3255</td>\n",
       "    </tr>\n",
       "    <tr>\n",
       "      <th>credit_card</th>\n",
       "      <td>16791</td>\n",
       "      <td>81901</td>\n",
       "    </tr>\n",
       "    <tr>\n",
       "      <th>debt_consolidation</th>\n",
       "      <td>52887</td>\n",
       "      <td>201570</td>\n",
       "    </tr>\n",
       "    <tr>\n",
       "      <th>home_improvement</th>\n",
       "      <td>4237</td>\n",
       "      <td>19105</td>\n",
       "    </tr>\n",
       "    <tr>\n",
       "      <th>house</th>\n",
       "      <td>367</td>\n",
       "      <td>1476</td>\n",
       "    </tr>\n",
       "    <tr>\n",
       "      <th>major_purchase</th>\n",
       "      <td>1286</td>\n",
       "      <td>6231</td>\n",
       "    </tr>\n",
       "    <tr>\n",
       "      <th>medical</th>\n",
       "      <td>767</td>\n",
       "      <td>3083</td>\n",
       "    </tr>\n",
       "    <tr>\n",
       "      <th>moving</th>\n",
       "      <td>525</td>\n",
       "      <td>1841</td>\n",
       "    </tr>\n",
       "    <tr>\n",
       "      <th>other</th>\n",
       "      <td>3981</td>\n",
       "      <td>15286</td>\n",
       "    </tr>\n",
       "    <tr>\n",
       "      <th>renewable_energy</th>\n",
       "      <td>51</td>\n",
       "      <td>194</td>\n",
       "    </tr>\n",
       "    <tr>\n",
       "      <th>small_business</th>\n",
       "      <td>1400</td>\n",
       "      <td>3622</td>\n",
       "    </tr>\n",
       "    <tr>\n",
       "      <th>vacation</th>\n",
       "      <td>364</td>\n",
       "      <td>1723</td>\n",
       "    </tr>\n",
       "    <tr>\n",
       "      <th>wedding</th>\n",
       "      <td>182</td>\n",
       "      <td>1157</td>\n",
       "    </tr>\n",
       "  </tbody>\n",
       "</table>\n",
       "</div>"
      ],
      "text/plain": [
       "loan_status             0       1\n",
       "purpose                          \n",
       "car                   528    3255\n",
       "credit_card         16791   81901\n",
       "debt_consolidation  52887  201570\n",
       "home_improvement     4237   19105\n",
       "house                 367    1476\n",
       "major_purchase       1286    6231\n",
       "medical               767    3083\n",
       "moving                525    1841\n",
       "other                3981   15286\n",
       "renewable_energy       51     194\n",
       "small_business       1400    3622\n",
       "vacation              364    1723\n",
       "wedding               182    1157"
      ]
     },
     "execution_count": 208,
     "metadata": {},
     "output_type": "execute_result"
    }
   ],
   "source": [
    "purpose = df.groupby(['purpose','loan_status']).size().unstack()\n",
    "purpose"
   ]
  },
  {
   "cell_type": "code",
   "execution_count": 209,
   "metadata": {},
   "outputs": [
    {
     "data": {
      "image/png": "[encoded data removed]",
      "text/plain": [
       "<Figure size 864x360 with 1 Axes>"
      ]
     },
     "metadata": {
      "needs_background": "light"
     },
     "output_type": "display_data"
    }
   ],
   "source": [
    "purpose.plot(kind ='bar', stacked = True, colormap = 'RdYlGn', figsize = (12,5));"
   ]
  },
  {
   "cell_type": "markdown",
   "metadata": {},
   "source": [
    "The two main purpose for loan is credit card and debt consolidation, and more than 50% of borrowers paid it off."
   ]
  },
  {
   "cell_type": "markdown",
   "metadata": {},
   "source": [
    "#### 2.4 Bankruptices vs Loan Status"
   ]
  },
  {
   "cell_type": "code",
   "execution_count": 210,
   "metadata": {},
   "outputs": [
    {
     "data": {
      "text/plain": [
       "loan_status\n",
       "0    0.114579\n",
       "1    0.112156\n",
       "Name: pub_rec_bankruptcies, dtype: float64"
      ]
     },
     "execution_count": 210,
     "metadata": {},
     "output_type": "execute_result"
    }
   ],
   "source": [
    "df.groupby('loan_status').pub_rec_bankruptcies.mean()"
   ]
  },
  {
   "cell_type": "markdown",
   "metadata": {},
   "source": [
    "The mean value of public record bankruptices is almost the same for different loan status, for borrowers who paid off the loan, the public record bankruptcies is slightly lower."
   ]
  },
  {
   "cell_type": "markdown",
   "metadata": {},
   "source": [
    "### Feature Selection<a class=\"anchor\" id=\"step3\"></a>\n",
    "After dropping columns with more than 30% missing values and id variable, we still have 93 columns. Next, I am going to use Boruta package to do the feature selection.\n"
   ]
  },
  {
   "cell_type": "code",
   "execution_count": 235,
   "metadata": {},
   "outputs": [],
   "source": [
    "# Drop url and zip_code features since they are too many distinct values and not that useful\n",
    "df.drop(labels = ['url','zip_code', 'id'], axis = 1, inplace = True)"
   ]
  },
  {
   "cell_type": "code",
   "execution_count": 236,
   "metadata": {},
   "outputs": [
    {
     "data": {
      "text/plain": [
       "['term',\n",
       " 'grade',\n",
       " 'sub_grade',\n",
       " 'emp_title',\n",
       " 'emp_length',\n",
       " 'home_ownership',\n",
       " 'verification_status',\n",
       " 'issue_d',\n",
       " 'pymnt_plan',\n",
       " 'purpose',\n",
       " 'title',\n",
       " 'addr_state',\n",
       " 'earliest_cr_line',\n",
       " 'initial_list_status',\n",
       " 'last_pymnt_d',\n",
       " 'last_credit_pull_d',\n",
       " 'application_type',\n",
       " 'hardship_flag',\n",
       " 'disbursement_method',\n",
       " 'debt_settlement_flag']"
      ]
     },
     "execution_count": 236,
     "metadata": {},
     "output_type": "execute_result"
    }
   ],
   "source": [
    "feature_object = list(df.dtypes[df.dtypes == np.object].index)\n",
    "feature_object"
   ]
  },
  {
   "cell_type": "markdown",
   "metadata": {},
   "source": [
    "When I imported the datasets, there is a warning saying that some columns has mixed data types. I will convert the object variables to the same data type string before encoding."
   ]
  },
  {
   "cell_type": "code",
   "execution_count": 237,
   "metadata": {},
   "outputs": [],
   "source": [
    "for i in feature_object:\n",
    "    df[i] = df[i].astype(str)"
   ]
  },
  {
   "cell_type": "code",
   "execution_count": 238,
   "metadata": {},
   "outputs": [],
   "source": [
    "# Convert all object variables to numeric\n",
    "from sklearn.preprocessing import LabelEncoder\n",
    "labelencoder = LabelEncoder()\n",
    "for i in feature_object:\n",
    "    df[i] = labelencoder.fit_transform(df[i].astype(str))"
   ]
  },
  {
   "cell_type": "code",
   "execution_count": 239,
   "metadata": {},
   "outputs": [
    {
     "data": {
      "text/plain": [
       "[]"
      ]
     },
     "execution_count": 239,
     "metadata": {},
     "output_type": "execute_result"
    }
   ],
   "source": [
    "# Check the result\n",
    "list(df.dtypes[df.dtypes == np.object].index)"
   ]
  },
  {
   "cell_type": "code",
   "execution_count": 240,
   "metadata": {},
   "outputs": [
    {
     "data": {
      "text/plain": [
       "mths_since_recent_inq    49560\n",
       "mo_sin_old_il_acct       41043\n",
       "num_tl_120dpd_2m         35857\n",
       "pct_tl_nvr_dlq           27894\n",
       "avg_cur_bal              27753\n",
       "                         ...  \n",
       "total_pymnt_inv              0\n",
       "total_pymnt                  0\n",
       "out_prncp_inv                0\n",
       "out_prncp                    0\n",
       "loan_amnt                    0\n",
       "Length: 91, dtype: int64"
      ]
     },
     "execution_count": 240,
     "metadata": {},
     "output_type": "execute_result"
    }
   ],
   "source": [
    "df.isnull().sum().sort_values(ascending=False)"
   ]
  },
  {
   "cell_type": "markdown",
   "metadata": {},
   "source": [
    "Since there are still a lot of missing values in the columns, I will use mean value to impute the missing values. "
   ]
  },
  {
   "cell_type": "code",
   "execution_count": 241,
   "metadata": {},
   "outputs": [],
   "source": [
    "from sklearn.impute import SimpleImputer\n",
    "imp = SimpleImputer(strategy = 'mean')\n",
    "imputer=imp.fit(df.iloc[:,:])"
   ]
  },
  {
   "cell_type": "code",
   "execution_count": 242,
   "metadata": {},
   "outputs": [],
   "source": [
    "df.iloc[:,:] = imputer.transform(df.iloc[:,:])"
   ]
  },
  {
   "cell_type": "code",
   "execution_count": 243,
   "metadata": {},
   "outputs": [
    {
     "data": {
      "text/plain": [
       "loan_status              0\n",
       "fico_range_high          0\n",
       "open_acc                 0\n",
       "pub_rec                  0\n",
       "revol_bal                0\n",
       "                        ..\n",
       "mths_since_recent_bc     0\n",
       "mths_since_recent_inq    0\n",
       "num_accts_ever_120_pd    0\n",
       "num_actv_bc_tl           0\n",
       "loan_amnt                0\n",
       "Length: 91, dtype: int64"
      ]
     },
     "execution_count": 243,
     "metadata": {},
     "output_type": "execute_result"
    }
   ],
   "source": [
    "# Check missing value\n",
    "df.isnull().sum().sort_values(ascending=False)"
   ]
  },
  {
   "cell_type": "code",
   "execution_count": 244,
   "metadata": {},
   "outputs": [],
   "source": [
    "y = df['loan_status']\n",
    "X = df.drop(labels = [\"loan_status\"], axis = 1)"
   ]
  },
  {
   "cell_type": "code",
   "execution_count": 245,
   "metadata": {},
   "outputs": [],
   "source": [
    "# Split train and test data set\n",
    "X_train, X_test,y_train, y_test = train_test_split(X, y, test_size=0.3, random_state=42)\n"
   ]
  },
  {
   "cell_type": "code",
   "execution_count": 165,
   "metadata": {},
   "outputs": [],
   "source": [
    "# Define Random Forest classifier to be used by Boruta\n",
    "model = RandomForestClassifier(n_jobs = -1)"
   ]
  },
  {
   "cell_type": "code",
   "execution_count": 166,
   "metadata": {},
   "outputs": [],
   "source": [
    "# Define Boruta feature selection method\n",
    "from boruta import BorutaPy\n",
    "feat_selector = BorutaPy(model, n_estimators='auto', verbose = 2,random_state=1)"
   ]
  },
  {
   "cell_type": "code",
   "execution_count": 167,
   "metadata": {},
   "outputs": [
    {
     "name": "stdout",
     "output_type": "stream",
     "text": [
      "Iteration: \t1 / 100\n",
      "Confirmed: \t0\n",
      "Tentative: \t90\n",
      "Rejected: \t0\n",
      "Iteration: \t2 / 100\n",
      "Confirmed: \t0\n",
      "Tentative: \t90\n",
      "Rejected: \t0\n",
      "Iteration: \t3 / 100\n",
      "Confirmed: \t0\n",
      "Tentative: \t90\n",
      "Rejected: \t0\n",
      "Iteration: \t4 / 100\n",
      "Confirmed: \t0\n",
      "Tentative: \t90\n",
      "Rejected: \t0\n",
      "Iteration: \t5 / 100\n",
      "Confirmed: \t0\n",
      "Tentative: \t90\n",
      "Rejected: \t0\n",
      "Iteration: \t6 / 100\n",
      "Confirmed: \t0\n",
      "Tentative: \t90\n",
      "Rejected: \t0\n",
      "Iteration: \t7 / 100\n",
      "Confirmed: \t0\n",
      "Tentative: \t90\n",
      "Rejected: \t0\n",
      "Iteration: \t8 / 100\n",
      "Confirmed: \t40\n",
      "Tentative: \t8\n",
      "Rejected: \t42\n",
      "Iteration: \t9 / 100\n",
      "Confirmed: \t40\n",
      "Tentative: \t8\n",
      "Rejected: \t42\n",
      "Iteration: \t10 / 100\n",
      "Confirmed: \t40\n",
      "Tentative: \t8\n",
      "Rejected: \t42\n",
      "Iteration: \t11 / 100\n",
      "Confirmed: \t40\n",
      "Tentative: \t8\n",
      "Rejected: \t42\n",
      "Iteration: \t12 / 100\n",
      "Confirmed: \t40\n",
      "Tentative: \t8\n",
      "Rejected: \t42\n",
      "Iteration: \t13 / 100\n",
      "Confirmed: \t40\n",
      "Tentative: \t6\n",
      "Rejected: \t44\n",
      "Iteration: \t14 / 100\n",
      "Confirmed: \t40\n",
      "Tentative: \t6\n",
      "Rejected: \t44\n",
      "Iteration: \t15 / 100\n",
      "Confirmed: \t40\n",
      "Tentative: \t6\n",
      "Rejected: \t44\n",
      "Iteration: \t16 / 100\n",
      "Confirmed: \t40\n",
      "Tentative: \t6\n",
      "Rejected: \t44\n",
      "Iteration: \t17 / 100\n",
      "Confirmed: \t40\n",
      "Tentative: \t6\n",
      "Rejected: \t44\n",
      "Iteration: \t18 / 100\n",
      "Confirmed: \t40\n",
      "Tentative: \t6\n",
      "Rejected: \t44\n",
      "Iteration: \t19 / 100\n",
      "Confirmed: \t40\n",
      "Tentative: \t6\n",
      "Rejected: \t44\n",
      "Iteration: \t20 / 100\n",
      "Confirmed: \t40\n",
      "Tentative: \t6\n",
      "Rejected: \t44\n",
      "Iteration: \t21 / 100\n",
      "Confirmed: \t40\n",
      "Tentative: \t6\n",
      "Rejected: \t44\n",
      "Iteration: \t22 / 100\n",
      "Confirmed: \t40\n",
      "Tentative: \t6\n",
      "Rejected: \t44\n",
      "Iteration: \t23 / 100\n",
      "Confirmed: \t40\n",
      "Tentative: \t6\n",
      "Rejected: \t44\n",
      "Iteration: \t24 / 100\n",
      "Confirmed: \t40\n",
      "Tentative: \t6\n",
      "Rejected: \t44\n",
      "Iteration: \t25 / 100\n",
      "Confirmed: \t40\n",
      "Tentative: \t6\n",
      "Rejected: \t44\n",
      "Iteration: \t26 / 100\n",
      "Confirmed: \t40\n",
      "Tentative: \t6\n",
      "Rejected: \t44\n",
      "Iteration: \t27 / 100\n",
      "Confirmed: \t40\n",
      "Tentative: \t6\n",
      "Rejected: \t44\n",
      "Iteration: \t28 / 100\n",
      "Confirmed: \t40\n",
      "Tentative: \t6\n",
      "Rejected: \t44\n",
      "Iteration: \t29 / 100\n",
      "Confirmed: \t40\n",
      "Tentative: \t6\n",
      "Rejected: \t44\n",
      "Iteration: \t30 / 100\n",
      "Confirmed: \t40\n",
      "Tentative: \t6\n",
      "Rejected: \t44\n",
      "Iteration: \t31 / 100\n",
      "Confirmed: \t40\n",
      "Tentative: \t6\n",
      "Rejected: \t44\n",
      "Iteration: \t32 / 100\n",
      "Confirmed: \t41\n",
      "Tentative: \t5\n",
      "Rejected: \t44\n",
      "Iteration: \t33 / 100\n",
      "Confirmed: \t41\n",
      "Tentative: \t5\n",
      "Rejected: \t44\n",
      "Iteration: \t34 / 100\n",
      "Confirmed: \t41\n",
      "Tentative: \t5\n",
      "Rejected: \t44\n",
      "Iteration: \t35 / 100\n",
      "Confirmed: \t41\n",
      "Tentative: \t5\n",
      "Rejected: \t44\n",
      "Iteration: \t36 / 100\n",
      "Confirmed: \t41\n",
      "Tentative: \t5\n",
      "Rejected: \t44\n",
      "Iteration: \t37 / 100\n",
      "Confirmed: \t41\n",
      "Tentative: \t5\n",
      "Rejected: \t44\n",
      "Iteration: \t38 / 100\n",
      "Confirmed: \t41\n",
      "Tentative: \t5\n",
      "Rejected: \t44\n",
      "Iteration: \t39 / 100\n",
      "Confirmed: \t41\n",
      "Tentative: \t5\n",
      "Rejected: \t44\n",
      "Iteration: \t40 / 100\n",
      "Confirmed: \t41\n",
      "Tentative: \t5\n",
      "Rejected: \t44\n",
      "Iteration: \t41 / 100\n",
      "Confirmed: \t41\n",
      "Tentative: \t5\n",
      "Rejected: \t44\n",
      "Iteration: \t42 / 100\n",
      "Confirmed: \t41\n",
      "Tentative: \t5\n",
      "Rejected: \t44\n",
      "Iteration: \t43 / 100\n",
      "Confirmed: \t41\n",
      "Tentative: \t5\n",
      "Rejected: \t44\n",
      "Iteration: \t44 / 100\n",
      "Confirmed: \t41\n",
      "Tentative: \t5\n",
      "Rejected: \t44\n",
      "Iteration: \t45 / 100\n",
      "Confirmed: \t41\n",
      "Tentative: \t5\n",
      "Rejected: \t44\n",
      "Iteration: \t46 / 100\n",
      "Confirmed: \t41\n",
      "Tentative: \t5\n",
      "Rejected: \t44\n",
      "Iteration: \t47 / 100\n",
      "Confirmed: \t41\n",
      "Tentative: \t5\n",
      "Rejected: \t44\n",
      "Iteration: \t48 / 100\n",
      "Confirmed: \t41\n",
      "Tentative: \t5\n",
      "Rejected: \t44\n",
      "Iteration: \t49 / 100\n",
      "Confirmed: \t41\n",
      "Tentative: \t5\n",
      "Rejected: \t44\n",
      "Iteration: \t50 / 100\n",
      "Confirmed: \t41\n",
      "Tentative: \t5\n",
      "Rejected: \t44\n",
      "Iteration: \t51 / 100\n",
      "Confirmed: \t41\n",
      "Tentative: \t5\n",
      "Rejected: \t44\n",
      "Iteration: \t52 / 100\n",
      "Confirmed: \t41\n",
      "Tentative: \t5\n",
      "Rejected: \t44\n",
      "Iteration: \t53 / 100\n",
      "Confirmed: \t41\n",
      "Tentative: \t5\n",
      "Rejected: \t44\n",
      "Iteration: \t54 / 100\n",
      "Confirmed: \t41\n",
      "Tentative: \t5\n",
      "Rejected: \t44\n",
      "Iteration: \t55 / 100\n",
      "Confirmed: \t41\n",
      "Tentative: \t5\n",
      "Rejected: \t44\n",
      "Iteration: \t56 / 100\n",
      "Confirmed: \t41\n",
      "Tentative: \t5\n",
      "Rejected: \t44\n",
      "Iteration: \t57 / 100\n",
      "Confirmed: \t41\n",
      "Tentative: \t5\n",
      "Rejected: \t44\n",
      "Iteration: \t58 / 100\n",
      "Confirmed: \t41\n",
      "Tentative: \t5\n",
      "Rejected: \t44\n",
      "Iteration: \t59 / 100\n",
      "Confirmed: \t41\n",
      "Tentative: \t5\n",
      "Rejected: \t44\n",
      "Iteration: \t60 / 100\n",
      "Confirmed: \t41\n",
      "Tentative: \t5\n",
      "Rejected: \t44\n",
      "Iteration: \t61 / 100\n",
      "Confirmed: \t41\n",
      "Tentative: \t5\n",
      "Rejected: \t44\n",
      "Iteration: \t62 / 100\n",
      "Confirmed: \t41\n",
      "Tentative: \t5\n",
      "Rejected: \t44\n",
      "Iteration: \t63 / 100\n",
      "Confirmed: \t41\n",
      "Tentative: \t5\n",
      "Rejected: \t44\n",
      "Iteration: \t64 / 100\n",
      "Confirmed: \t41\n",
      "Tentative: \t5\n",
      "Rejected: \t44\n",
      "Iteration: \t65 / 100\n",
      "Confirmed: \t41\n",
      "Tentative: \t5\n",
      "Rejected: \t44\n",
      "Iteration: \t66 / 100\n",
      "Confirmed: \t41\n",
      "Tentative: \t5\n",
      "Rejected: \t44\n",
      "Iteration: \t67 / 100\n",
      "Confirmed: \t41\n",
      "Tentative: \t5\n",
      "Rejected: \t44\n",
      "Iteration: \t68 / 100\n",
      "Confirmed: \t41\n",
      "Tentative: \t5\n",
      "Rejected: \t44\n",
      "Iteration: \t69 / 100\n",
      "Confirmed: \t41\n",
      "Tentative: \t5\n",
      "Rejected: \t44\n",
      "Iteration: \t70 / 100\n",
      "Confirmed: \t41\n",
      "Tentative: \t5\n",
      "Rejected: \t44\n",
      "Iteration: \t71 / 100\n",
      "Confirmed: \t41\n",
      "Tentative: \t5\n",
      "Rejected: \t44\n",
      "Iteration: \t72 / 100\n",
      "Confirmed: \t41\n",
      "Tentative: \t5\n",
      "Rejected: \t44\n",
      "Iteration: \t73 / 100\n",
      "Confirmed: \t41\n",
      "Tentative: \t5\n",
      "Rejected: \t44\n",
      "Iteration: \t74 / 100\n",
      "Confirmed: \t41\n",
      "Tentative: \t5\n",
      "Rejected: \t44\n",
      "Iteration: \t75 / 100\n",
      "Confirmed: \t41\n",
      "Tentative: \t5\n",
      "Rejected: \t44\n",
      "Iteration: \t76 / 100\n",
      "Confirmed: \t41\n",
      "Tentative: \t5\n",
      "Rejected: \t44\n",
      "Iteration: \t77 / 100\n",
      "Confirmed: \t41\n",
      "Tentative: \t5\n",
      "Rejected: \t44\n",
      "Iteration: \t78 / 100\n",
      "Confirmed: \t41\n",
      "Tentative: \t5\n",
      "Rejected: \t44\n",
      "Iteration: \t79 / 100\n",
      "Confirmed: \t41\n",
      "Tentative: \t5\n",
      "Rejected: \t44\n",
      "Iteration: \t80 / 100\n",
      "Confirmed: \t41\n",
      "Tentative: \t5\n",
      "Rejected: \t44\n",
      "Iteration: \t81 / 100\n",
      "Confirmed: \t41\n",
      "Tentative: \t5\n",
      "Rejected: \t44\n",
      "Iteration: \t82 / 100\n",
      "Confirmed: \t41\n",
      "Tentative: \t5\n",
      "Rejected: \t44\n",
      "Iteration: \t83 / 100\n",
      "Confirmed: \t41\n",
      "Tentative: \t5\n",
      "Rejected: \t44\n",
      "Iteration: \t84 / 100\n",
      "Confirmed: \t41\n",
      "Tentative: \t5\n",
      "Rejected: \t44\n",
      "Iteration: \t85 / 100\n",
      "Confirmed: \t41\n",
      "Tentative: \t5\n",
      "Rejected: \t44\n",
      "Iteration: \t86 / 100\n",
      "Confirmed: \t41\n",
      "Tentative: \t5\n",
      "Rejected: \t44\n",
      "Iteration: \t87 / 100\n",
      "Confirmed: \t41\n",
      "Tentative: \t5\n",
      "Rejected: \t44\n",
      "Iteration: \t88 / 100\n",
      "Confirmed: \t41\n",
      "Tentative: \t5\n",
      "Rejected: \t44\n",
      "Iteration: \t89 / 100\n",
      "Confirmed: \t41\n",
      "Tentative: \t5\n",
      "Rejected: \t44\n",
      "Iteration: \t90 / 100\n",
      "Confirmed: \t41\n",
      "Tentative: \t5\n",
      "Rejected: \t44\n",
      "Iteration: \t91 / 100\n",
      "Confirmed: \t41\n",
      "Tentative: \t5\n",
      "Rejected: \t44\n",
      "Iteration: \t92 / 100\n",
      "Confirmed: \t41\n",
      "Tentative: \t5\n",
      "Rejected: \t44\n",
      "Iteration: \t93 / 100\n",
      "Confirmed: \t41\n",
      "Tentative: \t5\n",
      "Rejected: \t44\n",
      "Iteration: \t94 / 100\n",
      "Confirmed: \t41\n",
      "Tentative: \t5\n",
      "Rejected: \t44\n",
      "Iteration: \t95 / 100\n",
      "Confirmed: \t41\n",
      "Tentative: \t5\n",
      "Rejected: \t44\n",
      "Iteration: \t96 / 100\n",
      "Confirmed: \t41\n",
      "Tentative: \t5\n",
      "Rejected: \t44\n",
      "Iteration: \t97 / 100\n",
      "Confirmed: \t41\n",
      "Tentative: \t5\n",
      "Rejected: \t44\n",
      "Iteration: \t98 / 100\n",
      "Confirmed: \t41\n",
      "Tentative: \t5\n",
      "Rejected: \t44\n",
      "Iteration: \t99 / 100\n",
      "Confirmed: \t41\n",
      "Tentative: \t5\n",
      "Rejected: \t44\n",
      "\n",
      "\n",
      "BorutaPy finished running.\n",
      "\n",
      "Iteration: \t100 / 100\n",
      "Confirmed: \t41\n",
      "Tentative: \t2\n",
      "Rejected: \t44\n"
     ]
    },
    {
     "data": {
      "text/plain": [
       "BorutaPy(estimator=RandomForestClassifier(n_estimators=95, n_jobs=-1,\n",
       "                                          random_state=RandomState(MT19937) at 0x25D8B5B40),\n",
       "         n_estimators='auto', random_state=RandomState(MT19937) at 0x25D8B5B40,\n",
       "         verbose=2)"
      ]
     },
     "execution_count": 167,
     "metadata": {},
     "output_type": "execute_result"
    }
   ],
   "source": [
    "feat_selector.fit(X_train.values,y_train.values)"
   ]
  },
  {
   "cell_type": "markdown",
   "metadata": {},
   "source": [
    "After I ran the model, let us review the result."
   ]
  },
  {
   "cell_type": "code",
   "execution_count": 170,
   "metadata": {},
   "outputs": [],
   "source": [
    "feature_names = np.array(X.columns)"
   ]
  },
  {
   "cell_type": "code",
   "execution_count": 172,
   "metadata": {},
   "outputs": [],
   "source": [
    "\n",
    "feature_ranks = list(zip(feature_names,\n",
    "                        feat_selector.ranking_, \n",
    "                         feat_selector.support_))"
   ]
  },
  {
   "cell_type": "code",
   "execution_count": 183,
   "metadata": {},
   "outputs": [
    {
     "name": "stdout",
     "output_type": "stream",
     "text": [
      "Accepted Features is total: 41, they are ['loan_amnt', 'funded_amnt', 'funded_amnt_inv', 'term', 'int_rate', 'installment', 'grade', 'sub_grade', 'emp_title', 'annual_inc', 'issue_d', 'title', 'dti', 'revol_bal', 'revol_util', 'initial_list_status', 'out_prncp', 'out_prncp_inv', 'total_pymnt', 'total_pymnt_inv', 'total_rec_prncp', 'total_rec_int', 'total_rec_late_fee', 'recoveries', 'collection_recovery_fee', 'last_pymnt_d', 'last_pymnt_amnt', 'last_credit_pull_d', 'last_fico_range_high', 'last_fico_range_low', 'tot_cur_bal', 'total_rev_hi_lim', 'acc_open_past_24mths', 'avg_cur_bal', 'bc_open_to_buy', 'mo_sin_old_rev_tl_op', 'tot_hi_cred_lim', 'total_bal_ex_mort', 'total_bc_limit', 'debt_settlement_flag', 'year']\n"
     ]
    }
   ],
   "source": [
    "# Print accepted featurs as well as features that boruta consider unimportant\n",
    "accept = X.columns[feat_selector.support_].to_list()\n",
    "not_accept = X.columns[feat_selector.support_weak_].to_list()\n",
    "\n",
    "print('Accepted Features is total: {}, they are {}'.format(len(accept), accept))"
   ]
  },
  {
   "cell_type": "code",
   "execution_count": 176,
   "metadata": {},
   "outputs": [],
   "source": [
    "# Save the features in a list\n",
    "important_features = ['loan_amnt', 'funded_amnt', 'funded_amnt_inv', 'term', 'int_rate', 'installment', 'grade', \n",
    "                      'sub_grade', 'emp_title', 'annual_inc', 'issue_d', 'title', 'dti', 'revol_bal', 'revol_util', \n",
    "                      'initial_list_status', 'out_prncp', 'out_prncp_inv', 'total_pymnt', 'total_pymnt_inv', \n",
    "                      'total_rec_prncp', 'total_rec_int', 'total_rec_late_fee', 'recoveries', 'collection_recovery_fee', \n",
    "                      'last_pymnt_d', 'last_pymnt_amnt', 'last_credit_pull_d', 'last_fico_range_high', 'last_fico_range_low', \n",
    "                      'tot_cur_bal', 'total_rev_hi_lim', 'acc_open_past_24mths', 'avg_cur_bal', 'bc_open_to_buy', \n",
    "                      'mo_sin_old_rev_tl_op', 'tot_hi_cred_lim', 'total_bal_ex_mort', 'total_bc_limit', \n",
    "                      'debt_settlement_flag', 'year'\n",
    "                     ]"
   ]
  },
  {
   "cell_type": "markdown",
   "metadata": {},
   "source": [
    "After using Boruta feature selection, we reduced the feature from 93 to 41. Next, we are going to use these 41 features to predict the loan status."
   ]
  },
  {
   "cell_type": "code",
   "execution_count": 246,
   "metadata": {},
   "outputs": [
    {
     "data": {
      "text/plain": [
       "(296667, 41)"
      ]
     },
     "execution_count": 246,
     "metadata": {},
     "output_type": "execute_result"
    }
   ],
   "source": [
    "# Select the 41 features from X_train dataset\n",
    "new_X_train = X_train[important_features]\n",
    "new_X_train.shape"
   ]
  },
  {
   "cell_type": "code",
   "execution_count": 247,
   "metadata": {},
   "outputs": [
    {
     "data": {
      "text/plain": [
       "(127143, 41)"
      ]
     },
     "execution_count": 247,
     "metadata": {},
     "output_type": "execute_result"
    }
   ],
   "source": [
    "new_X_test = X_test[important_features]\n",
    "new_X_test.shape"
   ]
  },
  {
   "cell_type": "markdown",
   "metadata": {},
   "source": [
    "### Modelling<a class=\"anchor\" id=\"step4\"></a>"
   ]
  },
  {
   "cell_type": "markdown",
   "metadata": {},
   "source": [
    "Before I trained any models, I will first see the Null model accuracy to get a overall idea of the data.\n",
    "\n",
    "-- **Null Model**"
   ]
  },
  {
   "cell_type": "code",
   "execution_count": 248,
   "metadata": {},
   "outputs": [
    {
     "data": {
      "text/plain": [
       "1.0    102059\n",
       "0.0     25084\n",
       "Name: loan_status, dtype: int64"
      ]
     },
     "execution_count": 248,
     "metadata": {},
     "output_type": "execute_result"
    }
   ],
   "source": [
    "# Examine the distribution of the testing set\n",
    "y_test.value_counts()"
   ]
  },
  {
   "cell_type": "code",
   "execution_count": 249,
   "metadata": {},
   "outputs": [
    {
     "data": {
      "text/plain": [
       "0.8027103340333326"
      ]
     },
     "execution_count": 249,
     "metadata": {},
     "output_type": "execute_result"
    }
   ],
   "source": [
    "# Calculate the null accuracy ones\n",
    "max(y_test.mean(), 1- y_test.mean())"
   ]
  },
  {
   "cell_type": "markdown",
   "metadata": {},
   "source": [
    "We get about 80% accuracy for positive loan status if we don't run any models."
   ]
  },
  {
   "cell_type": "markdown",
   "metadata": {},
   "source": [
    "After splitting the train and test dataset, I will try Random Forest, XGboost, Logistic Regression and KNN to predict the loan status.\n",
    "\n",
    "-- **Random Forest**"
   ]
  },
  {
   "cell_type": "code",
   "execution_count": 250,
   "metadata": {},
   "outputs": [],
   "source": [
    "\n",
    "random_model = RandomForestClassifier(n_jobs = -1)"
   ]
  },
  {
   "cell_type": "code",
   "execution_count": 251,
   "metadata": {},
   "outputs": [
    {
     "data": {
      "text/plain": [
       "RandomForestClassifier(n_jobs=-1)"
      ]
     },
     "execution_count": 251,
     "metadata": {},
     "output_type": "execute_result"
    }
   ],
   "source": [
    "# Fitting Random Forest Classifier to train dataset\n",
    "random_model.fit(new_X_train, y_train)"
   ]
  },
  {
   "cell_type": "code",
   "execution_count": 252,
   "metadata": {},
   "outputs": [],
   "source": [
    "# predict on the test dataset\n",
    "y_pred_rf = random_model.predict(new_X_test)"
   ]
  },
  {
   "cell_type": "code",
   "execution_count": 253,
   "metadata": {},
   "outputs": [
    {
     "name": "stdout",
     "output_type": "stream",
     "text": [
      "Accuracy Score:  0.9971685425072556\n"
     ]
    }
   ],
   "source": [
    "# Print accuracy score\n",
    "print('Accuracy Score: ', metrics.accuracy_score(y_test, y_pred_rf))"
   ]
  },
  {
   "cell_type": "code",
   "execution_count": 254,
   "metadata": {},
   "outputs": [
    {
     "data": {
      "text/plain": [
       "array([[ 24727,    357],\n",
       "       [     3, 102056]])"
      ]
     },
     "execution_count": 254,
     "metadata": {},
     "output_type": "execute_result"
    }
   ],
   "source": [
    "# Print confusion matrix\n",
    "cm_rf = confusion_matrix(y_test,y_pred_rf)\n",
    "cm_rf"
   ]
  },
  {
   "cell_type": "code",
   "execution_count": 255,
   "metadata": {},
   "outputs": [
    {
     "data": {
      "image/png": "[encoded data removed]",
      "text/plain": [
       "<Figure size 432x288 with 2 Axes>"
      ]
     },
     "metadata": {
      "needs_background": "light"
     },
     "output_type": "display_data"
    }
   ],
   "source": [
    "group_names = ['True Neg','False Pos','False Neg','True Pos']\n",
    "group_perct = [\"{0:.2%}\".format(value) for value in cm_rf.flatten()/np.sum(cm_rf)]\n",
    "\n",
    "labels = [f\"{v1}\\n{v2}\" for v1,v2 in \n",
    "         zip(group_names, group_perct)]\n",
    "labels = np.asarray(labels).reshape(2,2)\n",
    "\n",
    "sns.heatmap(cm_rf, annot = labels, fmt='', cmap = 'Blues',annot_kws={\"size\": 14})\n",
    "plt.xlabel(\"Predicted Value\", fontsize = 14)\n",
    "plt.ylabel(\"True Value\", fontsize = 14);"
   ]
  },
  {
   "cell_type": "markdown",
   "metadata": {},
   "source": [
    "#### XGboost"
   ]
  },
  {
   "cell_type": "code",
   "execution_count": 256,
   "metadata": {},
   "outputs": [],
   "source": [
    "xgb_model = xgb.XGBClassifier()"
   ]
  },
  {
   "cell_type": "code",
   "execution_count": 257,
   "metadata": {},
   "outputs": [
    {
     "name": "stderr",
     "output_type": "stream",
     "text": [
      "/opt/anaconda3/lib/python3.8/site-packages/xgboost/sklearn.py:888: UserWarning: The use of label encoder in XGBClassifier is deprecated and will be removed in a future release. To remove this warning, do the following: 1) Pass option use_label_encoder=False when constructing XGBClassifier object; and 2) Encode your labels (y) as integers starting with 0, i.e. 0, 1, 2, ..., [num_class - 1].\n",
      "  warnings.warn(label_encoder_deprecation_msg, UserWarning)\n"
     ]
    },
    {
     "name": "stdout",
     "output_type": "stream",
     "text": [
      "[22:51:43] WARNING: /Users/travis/build/dmlc/xgboost/src/learner.cc:1061: Starting in XGBoost 1.3.0, the default evaluation metric used with the objective 'binary:logistic' was changed from 'error' to 'logloss'. Explicitly set eval_metric if you'd like to restore the old behavior.\n"
     ]
    },
    {
     "data": {
      "text/plain": [
       "XGBClassifier(base_score=0.5, booster='gbtree', colsample_bylevel=1,\n",
       "              colsample_bynode=1, colsample_bytree=1, gamma=0, gpu_id=-1,\n",
       "              importance_type='gain', interaction_constraints='',\n",
       "              learning_rate=0.300000012, max_delta_step=0, max_depth=6,\n",
       "              min_child_weight=1, missing=nan, monotone_constraints='()',\n",
       "              n_estimators=100, n_jobs=4, num_parallel_tree=1, random_state=0,\n",
       "              reg_alpha=0, reg_lambda=1, scale_pos_weight=1, subsample=1,\n",
       "              tree_method='exact', validate_parameters=1, verbosity=None)"
      ]
     },
     "execution_count": 257,
     "metadata": {},
     "output_type": "execute_result"
    }
   ],
   "source": [
    "# Fit the xgboost model for the new feature data set\n",
    "xgb_model.fit(new_X_train, y_train)"
   ]
  },
  {
   "cell_type": "code",
   "execution_count": 258,
   "metadata": {},
   "outputs": [],
   "source": [
    "# predict on the test dataset\n",
    "y_pred_xg = xgb_model.predict(new_X_test)"
   ]
  },
  {
   "cell_type": "code",
   "execution_count": 259,
   "metadata": {},
   "outputs": [
    {
     "name": "stdout",
     "output_type": "stream",
     "text": [
      "Accuracy Score for XGboost:  0.9987730350864774\n"
     ]
    }
   ],
   "source": [
    "# Print accuracy score\n",
    "print('Accuracy Score for XGboost: ', metrics.accuracy_score(y_test, y_pred_xg))"
   ]
  },
  {
   "cell_type": "code",
   "execution_count": 260,
   "metadata": {},
   "outputs": [
    {
     "data": {
      "text/plain": [
       "array([[ 24933,    151],\n",
       "       [     5, 102054]])"
      ]
     },
     "execution_count": 260,
     "metadata": {},
     "output_type": "execute_result"
    }
   ],
   "source": [
    "# Print confusion matrix\n",
    "cm_xgb = confusion_matrix(y_test,y_pred_xg)\n",
    "cm_xgb"
   ]
  },
  {
   "cell_type": "code",
   "execution_count": 261,
   "metadata": {},
   "outputs": [
    {
     "data": {
      "image/png": "[encoded data removed]",
      "text/plain": [
       "<Figure size 432x288 with 2 Axes>"
      ]
     },
     "metadata": {
      "needs_background": "light"
     },
     "output_type": "display_data"
    }
   ],
   "source": [
    "group_perct_xgb = [\"{0:.2%}\".format(value) for value in cm_xgb.flatten()/np.sum(cm_xgb)]\n",
    "labels = [f\"{v1}\\n{v2}\" for v1,v2 in \n",
    "         zip(group_names, group_perct_xgb)]\n",
    "labels = np.asarray(labels).reshape(2,2)\n",
    "sns.heatmap(cm_xgb, annot = labels, fmt='', cmap = 'Blues',annot_kws={\"size\": 14})\n",
    "plt.xlabel(\"Predicted Value\", fontsize = 14)\n",
    "plt.ylabel(\"True Value\", fontsize = 14);"
   ]
  },
  {
   "cell_type": "markdown",
   "metadata": {},
   "source": [
    "#### Logistic Regression"
   ]
  },
  {
   "cell_type": "code",
   "execution_count": 262,
   "metadata": {},
   "outputs": [],
   "source": [
    "log_model = LogisticRegression()"
   ]
  },
  {
   "cell_type": "code",
   "execution_count": 263,
   "metadata": {},
   "outputs": [
    {
     "name": "stderr",
     "output_type": "stream",
     "text": [
      "/opt/anaconda3/lib/python3.8/site-packages/sklearn/linear_model/_logistic.py:762: ConvergenceWarning: lbfgs failed to converge (status=1):\n",
      "STOP: TOTAL NO. of ITERATIONS REACHED LIMIT.\n",
      "\n",
      "Increase the number of iterations (max_iter) or scale the data as shown in:\n",
      "    https://scikit-learn.org/stable/modules/preprocessing.html\n",
      "Please also refer to the documentation for alternative solver options:\n",
      "    https://scikit-learn.org/stable/modules/linear_model.html#logistic-regression\n",
      "  n_iter_i = _check_optimize_result(\n"
     ]
    },
    {
     "data": {
      "text/plain": [
       "LogisticRegression()"
      ]
     },
     "execution_count": 263,
     "metadata": {},
     "output_type": "execute_result"
    }
   ],
   "source": [
    "# Fit the xgboost model for the new feature data set\n",
    "log_model.fit(new_X_train, y_train)"
   ]
  },
  {
   "cell_type": "code",
   "execution_count": 264,
   "metadata": {},
   "outputs": [],
   "source": [
    "# predict on the test dataset\n",
    "y_pred_log = log_model.predict(new_X_test)"
   ]
  },
  {
   "cell_type": "code",
   "execution_count": 265,
   "metadata": {},
   "outputs": [
    {
     "name": "stdout",
     "output_type": "stream",
     "text": [
      "Accuracy Score for Logistic Regression:  0.9955247241295234\n"
     ]
    }
   ],
   "source": [
    "# Print accuracy score\n",
    "print('Accuracy Score for Logistic Regression: ', metrics.accuracy_score(y_test, y_pred_log))"
   ]
  },
  {
   "cell_type": "code",
   "execution_count": 266,
   "metadata": {},
   "outputs": [
    {
     "data": {
      "text/plain": [
       "array([[ 24537,    547],\n",
       "       [    22, 102037]])"
      ]
     },
     "execution_count": 266,
     "metadata": {},
     "output_type": "execute_result"
    }
   ],
   "source": [
    "# Print confusion matrix\n",
    "cm_log = confusion_matrix(y_test,y_pred_log)\n",
    "cm_log"
   ]
  },
  {
   "cell_type": "code",
   "execution_count": 267,
   "metadata": {},
   "outputs": [
    {
     "data": {
      "image/png": "[encoded data removed]",
      "text/plain": [
       "<Figure size 432x288 with 2 Axes>"
      ]
     },
     "metadata": {
      "needs_background": "light"
     },
     "output_type": "display_data"
    }
   ],
   "source": [
    "group_perct_log = [\"{0:.2%}\".format(value) for value in cm_log.flatten()/np.sum(cm_log)]\n",
    "labels = [f\"{v1}\\n{v2}\" for v1,v2 in \n",
    "         zip(group_names, group_perct_log)]\n",
    "labels = np.asarray(labels).reshape(2,2)\n",
    "sns.heatmap(cm_log, annot = labels, fmt='', cmap = 'Blues',annot_kws={\"size\": 14})\n",
    "plt.xlabel(\"Predicted Value\", fontsize = 14)\n",
    "plt.ylabel(\"True Value\", fontsize = 14);"
   ]
  },
  {
   "cell_type": "markdown",
   "metadata": {},
   "source": [
    "#### KNN\n",
    "\n",
    "Before fit KNN model, I need to standardize the variables"
   ]
  },
  {
   "cell_type": "code",
   "execution_count": 268,
   "metadata": {},
   "outputs": [],
   "source": [
    "from sklearn.preprocessing import StandardScaler\n",
    "scaler = StandardScaler()\n",
    "scaler.fit(new_X_train)\n",
    "new_X_train_scale = scaler.transform(new_X_train)\n",
    "new_X_test_scale = scaler.transform(new_X_test)"
   ]
  },
  {
   "cell_type": "code",
   "execution_count": 269,
   "metadata": {},
   "outputs": [],
   "source": [
    "from sklearn.neighbors import KNeighborsClassifier\n",
    "KNN_model = KNeighborsClassifier(n_neighbors = 5)"
   ]
  },
  {
   "cell_type": "code",
   "execution_count": 270,
   "metadata": {},
   "outputs": [
    {
     "data": {
      "text/plain": [
       "KNeighborsClassifier()"
      ]
     },
     "execution_count": 270,
     "metadata": {},
     "output_type": "execute_result"
    }
   ],
   "source": [
    "KNN_model.fit(new_X_train_scale, y_train)"
   ]
  },
  {
   "cell_type": "code",
   "execution_count": 271,
   "metadata": {},
   "outputs": [],
   "source": [
    "# Predict on the test dataset\n",
    "y_pred_knn = KNN_model.predict(new_X_test_scale)"
   ]
  },
  {
   "cell_type": "code",
   "execution_count": 272,
   "metadata": {},
   "outputs": [
    {
     "name": "stdout",
     "output_type": "stream",
     "text": [
      "Accuracy Score for KNN:  0.9550584774623849\n"
     ]
    }
   ],
   "source": [
    "# Print accuracy score\n",
    "print('Accuracy Score for KNN: ', metrics.accuracy_score(y_test, y_pred_knn))"
   ]
  },
  {
   "cell_type": "code",
   "execution_count": 273,
   "metadata": {},
   "outputs": [
    {
     "data": {
      "text/plain": [
       "array([[ 20220,   4864],\n",
       "       [   850, 101209]])"
      ]
     },
     "execution_count": 273,
     "metadata": {},
     "output_type": "execute_result"
    }
   ],
   "source": [
    "# Print confusion matrix\n",
    "cm_knn = confusion_matrix(y_test,y_pred_knn)\n",
    "cm_knn"
   ]
  },
  {
   "cell_type": "code",
   "execution_count": 274,
   "metadata": {},
   "outputs": [
    {
     "data": {
      "image/png": "[encoded data removed]",
      "text/plain": [
       "<Figure size 432x288 with 2 Axes>"
      ]
     },
     "metadata": {
      "needs_background": "light"
     },
     "output_type": "display_data"
    }
   ],
   "source": [
    "group_perct_knn = [\"{0:.2%}\".format(value) for value in cm_knn.flatten()/np.sum(cm_knn)]\n",
    "labels = [f\"{v1}\\n{v2}\" for v1,v2 in \n",
    "         zip(group_names, group_perct_knn)]\n",
    "labels = np.asarray(labels).reshape(2,2)\n",
    "sns.heatmap(cm_knn, annot = labels, fmt='', cmap = 'Blues',annot_kws={\"size\": 14})\n",
    "plt.xlabel(\"Predicted Value\", fontsize = 14)\n",
    "plt.ylabel(\"True Value\", fontsize = 14);"
   ]
  },
  {
   "cell_type": "markdown",
   "metadata": {},
   "source": [
    "From the above three model, we can see XGBoost gives us the best accuracy rate and confusion matrix. Therefore, our best model is XGBoost.\n",
    "\n",
    "Next, we will use this model to predict 2015 loan status for the company"
   ]
  },
  {
   "cell_type": "markdown",
   "metadata": {},
   "source": [
    "### Predict loan status for 2015 use XGBoost<a class=\"anchor\" id=\"step5\"></a>\n",
    "#### Data Pre-processing\n",
    "Same pre-processing steps as before"
   ]
  },
  {
   "cell_type": "code",
   "execution_count": 354,
   "metadata": {},
   "outputs": [
    {
     "data": {
      "text/plain": [
       "(421095, 152)"
      ]
     },
     "execution_count": 354,
     "metadata": {},
     "output_type": "execute_result"
    }
   ],
   "source": [
    "data2.shape"
   ]
  },
  {
   "cell_type": "code",
   "execution_count": 275,
   "metadata": {},
   "outputs": [],
   "source": [
    "# Drop url and zip_code features since they are too many distinct values and not that useful\n",
    "data2.drop(labels = ['url','zip_code','id'], axis = 1, inplace = True)"
   ]
  },
  {
   "cell_type": "code",
   "execution_count": 276,
   "metadata": {},
   "outputs": [],
   "source": [
    "# Encode the loan status\n",
    "data2['loan_encode'] = np.where(data2['loan_status'] == 'Fully Paid', 1, 0)"
   ]
  },
  {
   "cell_type": "code",
   "execution_count": 277,
   "metadata": {},
   "outputs": [],
   "source": [
    "# Drop loan_status column\n",
    "data2.drop(['loan_status'], axis = 1, inplace = True)"
   ]
  },
  {
   "cell_type": "code",
   "execution_count": 278,
   "metadata": {},
   "outputs": [],
   "source": [
    "# Rename loan_encode to loan_status\n",
    "data2.rename(columns = {'loan_encode':'loan_status'},inplace = True)"
   ]
  },
  {
   "cell_type": "code",
   "execution_count": 279,
   "metadata": {},
   "outputs": [
    {
     "data": {
      "text/plain": [
       "['term',\n",
       " 'grade',\n",
       " 'sub_grade',\n",
       " 'emp_title',\n",
       " 'emp_length',\n",
       " 'home_ownership',\n",
       " 'verification_status',\n",
       " 'issue_d',\n",
       " 'pymnt_plan',\n",
       " 'purpose',\n",
       " 'title',\n",
       " 'addr_state',\n",
       " 'earliest_cr_line',\n",
       " 'initial_list_status',\n",
       " 'last_pymnt_d',\n",
       " 'next_pymnt_d',\n",
       " 'last_credit_pull_d',\n",
       " 'application_type',\n",
       " 'hardship_flag',\n",
       " 'hardship_type',\n",
       " 'hardship_reason',\n",
       " 'hardship_status',\n",
       " 'hardship_start_date',\n",
       " 'hardship_end_date',\n",
       " 'payment_plan_start_date',\n",
       " 'hardship_loan_status',\n",
       " 'disbursement_method',\n",
       " 'debt_settlement_flag',\n",
       " 'debt_settlement_flag_date',\n",
       " 'settlement_status',\n",
       " 'settlement_date']"
      ]
     },
     "execution_count": 279,
     "metadata": {},
     "output_type": "execute_result"
    }
   ],
   "source": [
    "feature_object2 = list(data2.dtypes[data2.dtypes == np.object].index)\n",
    "feature_object2"
   ]
  },
  {
   "cell_type": "code",
   "execution_count": 280,
   "metadata": {},
   "outputs": [],
   "source": [
    "for i in feature_object2:\n",
    "    data2[i] = data2[i].astype(str)"
   ]
  },
  {
   "cell_type": "code",
   "execution_count": 281,
   "metadata": {},
   "outputs": [],
   "source": [
    "# Convert all object variables to numeric\n",
    "labelencoder = LabelEncoder()\n",
    "for i in feature_object2:\n",
    "    data2[i] = labelencoder.fit_transform(data2[i].astype(str))"
   ]
  },
  {
   "cell_type": "code",
   "execution_count": 282,
   "metadata": {},
   "outputs": [],
   "source": [
    "y_test_2015 = data2['loan_status']\n",
    "x_test_2015 = data2[important_features]"
   ]
  },
  {
   "cell_type": "code",
   "execution_count": 283,
   "metadata": {},
   "outputs": [],
   "source": [
    "# predict on the test dataset\n",
    "y_pred_xgb_2015 = xgb_model.predict(x_test_2015)"
   ]
  },
  {
   "cell_type": "code",
   "execution_count": 284,
   "metadata": {},
   "outputs": [
    {
     "name": "stdout",
     "output_type": "stream",
     "text": [
      "Accuracy Score for XGBoost for 2015:  0.9979410821786058\n"
     ]
    }
   ],
   "source": [
    "# Print accuracy score\n",
    "print('Accuracy Score for XGBoost for 2015: ', metrics.accuracy_score(y_test_2015, y_pred_xgb_2015))"
   ]
  },
  {
   "cell_type": "code",
   "execution_count": 285,
   "metadata": {},
   "outputs": [
    {
     "data": {
      "text/plain": [
       "array([[120488,    865],\n",
       "       [     2, 299740]])"
      ]
     },
     "execution_count": 285,
     "metadata": {},
     "output_type": "execute_result"
    }
   ],
   "source": [
    "# Print confusion matrix\n",
    "cm_2015 = confusion_matrix(y_test_2015,y_pred_xgb_2015)\n",
    "cm_2015"
   ]
  },
  {
   "cell_type": "code",
   "execution_count": 286,
   "metadata": {},
   "outputs": [
    {
     "data": {
      "image/png": "[encoded data removed]",
      "text/plain": [
       "<Figure size 432x288 with 2 Axes>"
      ]
     },
     "metadata": {
      "needs_background": "light"
     },
     "output_type": "display_data"
    }
   ],
   "source": [
    "group_perct_2 = [\"{0:.2%}\".format(value) for value in cm_2015.flatten()/np.sum(cm_2015)]\n",
    "labels = [f\"{v1}\\n{v2}\" for v1,v2 in \n",
    "         zip(group_names, group_perct_2)]\n",
    "labels = np.asarray(labels).reshape(2,2)\n",
    "sns.heatmap(cm_2015, annot = labels, fmt='', cmap = 'Blues',annot_kws={\"size\": 14})\n",
    "plt.xlabel(\"Predicted Value\", fontsize = 14)\n",
    "plt.ylabel(\"True Value\", fontsize = 14);"
   ]
  },
  {
   "cell_type": "markdown",
   "metadata": {},
   "source": [
    "### Conclusion<a class=\"anchor\" id=\"step6\"></a>"
   ]
  },
  {
   "cell_type": "markdown",
   "metadata": {},
   "source": [
    "The predict accuracy is 99.80% only 0.08% lower than the previous dataset,which shows that this model is very stable and gets almost same result with the training dataset.\n",
    "\n",
    "Below is the interpretion about the confusion matrix graphs.\n",
    "\n",
    "False Negtive means the customer actually can fully pay the loan, but we predit they can't, and we won't take this customer, we lose business. False Positive means the customer acutually can't fully pay the loan, but we predit they can, and we accept such customer, and we lose money. If the we don't want to take the risk, we should more focus on the Fasle Positive rate, and find the model which can reduce the False Positve rate.\n"
   ]
  }
 ],
 "metadata": {
  "kernelspec": {
   "display_name": "Python 3",
   "language": "python",
   "name": "python3"
  },
  "language_info": {
   "codemirror_mode": {
    "name": "ipython",
    "version": 3
   },
   "file_extension": ".py",
   "mimetype": "text/x-python",
   "name": "python",
   "nbconvert_exporter": "python",
   "pygments_lexer": "ipython3",
   "version": "3.8.3"
  }
 },
 "nbformat": 4,
 "nbformat_minor": 4
}
